{
 "metadata": {
  "name": ""
 },
 "nbformat": 3,
 "nbformat_minor": 0,
 "worksheets": [
  {
   "cells": [
    {
     "cell_type": "markdown",
     "metadata": {},
     "source": [
      "<b>Practical Data Science, Fall 2013\n",
      "\n",
      "Homework 3: Dealing with Data\n",
      "\n",
      "* * *\n",
      "Data Processing</b>"
     ]
    },
    {
     "cell_type": "markdown",
     "metadata": {},
     "source": [
      "<b> 1. Download the file user_tag_activity.json [located here](https://dl.dropboxusercontent.com/u/2143857/user_tag_activity.json). This file is json formatted, listing labels (here called \u201cresponses\u201d) applied by users (denoted by the \u201cuser\u201d field) to certain documents (here called \u201cobjects\u201d). Because users are imperfect, a particular label may be accepted or rejected after manual review (\u201caccepted\u201d field is 1 or 0 respectively). Here, the particular user user ids, labels and object identifiers have been scrambled to preserve privacy. Use python\u2019s json library to read in the file. How many unique users are there? How many unique objects and responses?</b>"
     ]
    },
    {
     "cell_type": "code",
     "collapsed": false,
     "input": [
      "!wget https://dl.dropboxusercontent.com/u/2143857/user_tag_activity.json"
     ],
     "language": "python",
     "metadata": {},
     "outputs": [],
     "prompt_number": "*"
    },
    {
     "cell_type": "markdown",
     "metadata": {},
     "source": [
      "Note: iPython seemed unable to get the file, so the file was downloaded seperately."
     ]
    },
    {
     "cell_type": "code",
     "collapsed": false,
     "input": [
      "# Import json reader\n",
      "import json\n",
      "\n",
      "# Used to count users/objects/responses\n",
      "users = {}\n",
      "objects = {}\n",
      "responses = {}\n",
      "\n",
      "\n",
      "# Open the file\n",
      "with open(\"user_tag_activity.json\") as f:\n",
      "\t# Iterate through every line of the file.\n",
      "    for line in f:\n",
      "\n",
      "    \t# --------------------------------------\n",
      "\n",
      "    \t# Used for Question 1\n",
      "    \t# Used to count users, if not counted, instantiate in users\n",
      "\t\tif users.get(json.loads(line)[\"user\"]) == None:\n",
      "\t\t\tusers[json.loads(line)[\"user\"]] = 1\n",
      "\t\t# Used to count objects, if not counted, instantiate in objects\n",
      "\t\tif objects.get(json.loads(line)[\"object\"]) == None:\n",
      "\t\t\tobjects[json.loads(line)[\"object\"]] = 1\n",
      "\t\t# Used to count responses, if not counted, instantiate in responses\n",
      "\t\tif responses.get(json.loads(line)[\"response\"]) == None:\n",
      "\t\t\tresponses[json.loads(line)[\"response\"]] = 1\n",
      "\n",
      "\t\t# --------------------------------------\n",
      "        \n",
      "# Close out the file\n",
      "f.close()\n",
      "\n",
      "# --------------------------------------\n",
      "\n",
      "# Question 1\n",
      "\n",
      "# Print the relevant unique users/objects/responses\n",
      "print \"There are \" + str(len(users)) + \" unique users.\"\n",
      "print \"There are \" + str(len(objects)) + \" unique objects.\"\n",
      "print \"There are \" + str(len(responses)) + \" unique responses.\"\n",
      "\n",
      "# --------------------------------------"
     ],
     "language": "python",
     "metadata": {},
     "outputs": [
      {
       "output_type": "stream",
       "stream": "stdout",
       "text": [
        "There are 15699 unique users.\n",
        "There are 340423 unique objects.\n",
        "There are 69871 unique responses.\n"
       ]
      }
     ],
     "prompt_number": 1
    },
    {
     "cell_type": "markdown",
     "metadata": {},
     "source": [
      "<b>2. Real data is often dirty- filter any tuples with NULL fields.</b>"
     ]
    },
    {
     "cell_type": "code",
     "collapsed": false,
     "input": [
      "# Open the file\n",
      "with open(\"user_tag_activity.json\") as f:\n",
      "\t# Iterate through every line of the file.\n",
      "    for line in f:\n",
      "\n",
      "\t\t# --------------------------------------\n",
      "\n",
      "\t\t# Question 2\n",
      "\t\t# Filtering NULL fields\n",
      "\t\tif line.find(\"NULL\") == -1:\n",
      "\n",
      "\t\t# --------------------------------------"
     ],
     "language": "python",
     "metadata": {},
     "outputs": [
      {
       "ename": "IndentationError",
       "evalue": "expected an indented block (<ipython-input-2-591d9df2085b>, line 12)",
       "output_type": "pyerr",
       "traceback": [
        "\u001b[1;36m  File \u001b[1;32m\"<ipython-input-2-591d9df2085b>\"\u001b[1;36m, line \u001b[1;32m12\u001b[0m\n\u001b[1;33m    # --------------------------------------\u001b[0m\n\u001b[1;37m                                            ^\u001b[0m\n\u001b[1;31mIndentationError\u001b[0m\u001b[1;31m:\u001b[0m expected an indented block\n"
       ]
      }
     ],
     "prompt_number": 2
    },
    {
     "cell_type": "markdown",
     "metadata": {},
     "source": [
      "In itself this code does nothing, but it used for the next questions. Instead of making a seperate file with my filter, I chose to use it to filter the lines for each case where it is necessary."
     ]
    },
    {
     "cell_type": "markdown",
     "metadata": {},
     "source": [
      "<b>3. What are the 5 users with the highest rejection rate? What are the 5 users with the greatest number of rejections?</b>"
     ]
    },
    {
     "cell_type": "code",
     "collapsed": false,
     "input": [
      "# Used to count rejections of each user\n",
      "userrejections = {}\n",
      "\n",
      "# Open the file\n",
      "with open(\"user_tag_activity.json\") as f:\n",
      "\t# Iterate through every line of the file.\n",
      "    for line in f:\n",
      "        \n",
      "        # --------------------------------------\n",
      "\n",
      "\t\t# Question 2\n",
      "\t\t# Filtering NULL fields\n",
      "\t\tif line.find(\"NULL\") == -1:\n",
      "\n",
      "\t\t\t# --------------------------------------\n",
      "\n",
      "\t\t\t# Used for Question 3\n",
      "    \t\t# Finding a user's rejections and total responses.\n",
      "\t\t\t# Instantiate an entry with a list containing rejections and total responses if none exists\n",
      "\t\t\tif userrejections.get(json.loads(line)[\"user\"]) == None:\n",
      "\t\t\t\tuserrejections[json.loads(line)[\"user\"]] = [0, 0]\n",
      "\n",
      "\t\t\t# Increment total responses\n",
      "\t\t\tuserrejections[json.loads(line)[\"user\"]][1] += 1\n",
      "\n",
      "\t\t\t# Increment total rejections if it is a rejection\n",
      "\t\t\tif json.loads(line)[\"accepted\"] == \"0\":\n",
      "\t\t\t\tuserrejections[json.loads(line)[\"user\"]][0] += 1\n",
      "\n",
      "\t\t\t# --------------------------------------\n",
      "\n",
      "# Close out the file\n",
      "f.close()\n",
      "\n",
      "# --------------------------------------\n",
      "\n",
      "# Question 3\n",
      "\n",
      "# Calculate 5 users with highest rejection rates\n",
      "# Do so by sorting the user rejections using a key that made by taking their rejections and dividing it by their total responses, then returning only those with the 5 highest results.\n",
      "highestuserrejrate = sorted(userrejections, key=lambda userrejrate: float(userrejections[userrejrate][0])/userrejections[userrejrate][1], reverse = True)[:5]\n",
      "\n",
      "# Find 5 users with most rejections\n",
      "# Do so by sorting the user rejections using a key that made by taking their rejections, then returning only those with the 5 highest results.\n",
      "mostrej = sorted(userrejections, key=lambda usertotalrej: userrejections[usertotalrej][0], reverse=True)[:5]\n",
      "\n",
      "# Print the results\n",
      "print \"The 5 users with the highest rejection rate are %s.\" % \", \".join(map(str, highestuserrejrate))\n",
      "print \"The 5 users with the greatest number of rejections are %s.\" % \", \".join(map(str, mostrej))\n",
      "\n",
      "# --------------------------------------"
     ],
     "language": "python",
     "metadata": {},
     "outputs": [
      {
       "output_type": "stream",
       "stream": "stdout",
       "text": [
        "The 5 users with the highest rejection rate are 4461917972885738830, 7140081293236426261, 355792772524603626, 8968607845247884239, 355793772630603943.\n",
        "The 5 users with the greatest number of rejections are 5461918972760738536, 3461916972872738871, 6400038450057764, 4814036714632610472, -2088598916602095351.\n"
       ]
      }
     ],
     "prompt_number": 3
    },
    {
     "cell_type": "markdown",
     "metadata": {},
     "source": [
      "<b>4. What are the 5 responses with the highest rejection rate? If we were to try to automate the rejection process by rejecting the these responses, how many good (accepted) tags would erroneously be rejected?</b>"
     ]
    },
    {
     "cell_type": "code",
     "collapsed": false,
     "input": [
      "# Used to count rejections to each response\n",
      "responserejections = {}\n",
      "\n",
      "# Open the file\n",
      "with open(\"user_tag_activity.json\") as f:\n",
      "\t# Iterate through every line of the file.\n",
      "    for line in f:\n",
      "        \n",
      "        # --------------------------------------\n",
      "\n",
      "\t\t# Question 2\n",
      "\t\t# Filtering NULL fields\n",
      "\t\tif line.find(\"NULL\") == -1:\n",
      "\n",
      "\t\t\t# --------------------------------------\n",
      "\n",
      "\t\t\t# Used for Question 4\n",
      "\t\t\t# Finding a response's rejections and total responses\n",
      "\t\t\t# Instantiate an entry with a list containing rejections and total responses if none exists\n",
      "\t\t\tif responserejections.get(json.loads(line)[\"response\"]) == None:\n",
      "\t\t\t\tresponserejections[json.loads(line)[\"response\"]] = [0, 0]\n",
      "\n",
      "\t\t\t# Increment total responses\n",
      "\t\t\tresponserejections[json.loads(line)[\"response\"]][1] += 1\n",
      "\n",
      "\t\t\t# Increment rejections if it is a rejection\n",
      "\t\t\tif json.loads(line)[\"accepted\"] == \"0\":\n",
      "\t\t\t\tresponserejections[json.loads(line)[\"response\"]][0] += 1\n",
      "\n",
      "\t\t\t# --------------------------------------\n",
      "\n",
      "# Close out the file\n",
      "f.close()\n",
      "\n",
      "# --------------------------------------\n",
      "\n",
      "# Question 4\n",
      "\n",
      "# Calculate 5 responses with highest rejection rates\n",
      "# Do so by sorting the response rejections using a key that made by taking the response's rejections and dividing it by the response's total responses, then returning only those with the 5 highest results.\n",
      "highestresprejrate = sorted(responserejections, key=lambda resprejrate: float(responserejections[resprejrate][0])/responserejections[resprejrate][1], reverse = True)[:5]\n",
      "\n",
      "# Print the results\n",
      "print \"The 5 responses with the highest rejection rate are %s.\" % \", \".join(map(str, highestresprejrate))\n",
      "\n",
      "# Find the amount of good tags that would be erraneously rejected if the top 5 reponses with the highest rejection rate were rejected.\n",
      "# Create var to find amount of good tags erroneously rejected\n",
      "goodtagerror = 0\n",
      "# Go through 5 responses with highest rejection rate\n",
      "for n in highestresprejrate:\n",
      "\t# Add to goodtagerror the amount of responses minus the amount of rejected responses to find the amount of accepted responses for each of the responses with the highest rejection rate\n",
      "\tgoodtagerror += responserejections[n][1]-responserejections[n][0]\n",
      "\n",
      "# Print the results\n",
      "print \"The amount of accepted tags that would be erroneously rejected is \" + str(goodtagerror) + \".\"\n",
      "\n",
      "# --------------------------------------"
     ],
     "language": "python",
     "metadata": {},
     "outputs": [
      {
       "output_type": "stream",
       "stream": "stdout",
       "text": [
        "The 5 responses with the highest rejection rate are -7060452194709552128, 6477965559655277771, -2146747341437483138, 5555194495040224327, -2880596111102578955.\n",
        "The amount of accepted tags that would be erroneously rejected is 0.\n"
       ]
      }
     ],
     "prompt_number": 4
    },
    {
     "cell_type": "markdown",
     "metadata": {},
     "source": [
      "While odd, this result happens because some responses have a 100% rejection rate, so they would show up as the responses with the highest rejection rate and therefore make none erroneously rejected. Given that below it mentions that these are \"tags\", they could ostensibly be gibberish tags so one could safely remove tags with the highest rejection rate."
     ]
    },
    {
     "cell_type": "markdown",
     "metadata": {},
     "source": [
      "<b>5. Similarly, some users may be more trustworthy than others. Find the 5 users with the greatest number of accepted responses. If one were to always accept responses from these users, how many \u201cbad\u201d tags would erroneously be accepted?</b>"
     ]
    },
    {
     "cell_type": "code",
     "collapsed": false,
     "input": [
      "# Used to count accepts of each user\n",
      "useraccepts = {}\n",
      "\n",
      "# Open the file\n",
      "with open(\"user_tag_activity.json\") as f:\n",
      "\t# Iterate through every line of the file.\n",
      "    for line in f:\n",
      "        \n",
      "        # --------------------------------------\n",
      "\n",
      "\t\t# Question 2\n",
      "\t\t# Filtering NULL fields\n",
      "\t\tif line.find(\"NULL\") == -1:\n",
      "\n",
      "\t\t\t# --------------------------------------\n",
      "\n",
      "\t\t\t# Used for Question 5 and 6\n",
      "\t\t\t# Finding a user's accepts and total responses.\n",
      "\t\t\t# Instantiate an entry with a list containing accepts and total responses if none exists\n",
      "\t\t\tif useraccepts.get(json.loads(line)[\"user\"]) == None:\n",
      "\t\t\t\tuseraccepts[json.loads(line)[\"user\"]] = [0, 0]\n",
      "\n",
      "\t\t\t# Increment total responses\n",
      "\t\t\tuseraccepts[json.loads(line)[\"user\"]][1] += 1\n",
      "\n",
      "\t\t\t# Increment accepts if it is accepted\n",
      "\t\t\tif json.loads(line)[\"accepted\"] == \"1\":\n",
      "\t\t\t\tuseraccepts[json.loads(line)[\"user\"]][0] += 1\n",
      "\n",
      "\t\t\t# --------------------------------------\n",
      "\n",
      "# Close out the file\n",
      "f.close()\n",
      "\n",
      "# --------------------------------------\n",
      "\n",
      "# Question 5\n",
      "\n",
      "# Find 5 users with greatest number of accepted responses\n",
      "# Do so by sorting the user accepts using a key that made by taking their acceptances, then returning only those with the 5 highest results.\n",
      "mostacc = sorted(useraccepts, key=lambda usertotalacc: useraccepts[usertotalacc][0], reverse=True)[:5]\n",
      "\n",
      "# Print the results\n",
      "print \"The 5 users with the greatest number of accepted responses are %s.\" % \", \".join(map(str, mostacc))\n",
      "\n",
      "# Create var to find amount of bad tags erroneously accepted\n",
      "badtagerror = 0\n",
      "# Go through 5 users with the greatest number of accepted responses\n",
      "for n in mostacc:\n",
      "\t# Add to goodtagerror the total amount of responses minus the amount of accepted responses to find the amount of rejected responses for each of the users with the highest number of accepted tags\n",
      "\tbadtagerror += useraccepts[n][1]-useraccepts[n][0]\n",
      "\n",
      "# Print the results\n",
      "print \"The amount of rejected tags that would be erroneously accepted is \" + str(badtagerror) + \".\"\n",
      "\n",
      "# --------------------------------------"
     ],
     "language": "python",
     "metadata": {},
     "outputs": [
      {
       "output_type": "stream",
       "stream": "stdout",
       "text": [
        "The 5 users with the greatest number of accepted responses are 3461916972869738765, 5461918972760738536, 4814036714632610472, 6400038450057764, 8461920972786738646.\n",
        "The amount of rejected tags that would be erroneously accepted is 12391.\n"
       ]
      }
     ],
     "prompt_number": 5
    },
    {
     "cell_type": "markdown",
     "metadata": {},
     "source": [
      "<b>6. Use matplotlib to plot the distribution of user acceptance rates.</b>"
     ]
    },
    {
     "cell_type": "code",
     "collapsed": false,
     "input": [
      "# This line configures matplotlib to show figures embedded in the notebook\n",
      "import matplotlib.pyplot as plt\n",
      "%pylab inline"
     ],
     "language": "python",
     "metadata": {},
     "outputs": [
      {
       "output_type": "stream",
       "stream": "stdout",
       "text": [
        "Populating the interactive namespace from numpy and matplotlib\n"
       ]
      }
     ],
     "prompt_number": 7
    },
    {
     "cell_type": "code",
     "collapsed": false,
     "input": [
      "# --------------------------------------\n",
      "\n",
      "# Question 6\n",
      "\n",
      "# Instantiate a list to hold acceptance rates\n",
      "useraccrate = []\n",
      "\n",
      "# Get all the user acceptance rates\n",
      "for n in useraccepts:\n",
      "\tuseraccrate.append(float(useraccepts[n][0])/useraccepts[n][1])\n",
      "\n",
      "# Plot out the distribution histogram of user acceptance rates\n",
      "fig, axes = plt.subplots()\n",
      "\n",
      "axes.hist(useraccrate, bins = 20)\n",
      "axes.set_xlabel('User Response Acceptance Rate')\n",
      "axes.set_ylabel('Number of Users')\n",
      "axes.set_title('User Response Acceptance Distribution');\n",
      "plt.show()\n",
      "\n",
      "# --------------------------------------"
     ],
     "language": "python",
     "metadata": {},
     "outputs": [
      {
       "metadata": {},
       "output_type": "display_data",
       "png": "[encoded data removed]",
       "text": [
        "<matplotlib.figure.Figure at 0xbb061d0>"
       ]
      }
     ],
     "prompt_number": 8
    },
    {
     "cell_type": "markdown",
     "metadata": {},
     "source": [
      "This histogram clearly shows that most of the users have a fairly high response acceptance rate. One of the cases that is significant is the amount of users at the ultra low end. Given that these were identified as \"tags\", this makes the notion that there are a good amount of users who have only incorrect tags (or many users with few tags, that are typically wrong)."
     ]
    },
    {
     "cell_type": "markdown",
     "metadata": {},
     "source": [
      "* * *\n",
      "<b>Complete Code</b>\n",
      "\n",
      "Code was split up above to better identify what code is for what question, but the code as a whole is much more concise."
     ]
    },
    {
     "cell_type": "code",
     "collapsed": false,
     "input": [
      "# Import json reader\n",
      "import json\n",
      "\n",
      "# Used to count users/objects/responses\n",
      "users = {}\n",
      "objects = {}\n",
      "responses = {}\n",
      "\n",
      "# Used to count rejections of each user\n",
      "userrejections = {}\n",
      "\n",
      "# Used to count rejections to each response\n",
      "responserejections = {}\n",
      "\n",
      "# Used to count accepts of each user\n",
      "useraccepts = {}\n",
      "\n",
      "# --------------------------------------\n",
      "\n",
      "# Open the file\n",
      "with open(\"user_tag_activity.json\") as f:\n",
      "\t# Iterate through every line of the file.\n",
      "    for line in f:\n",
      "\n",
      "    \t# --------------------------------------\n",
      "\n",
      "    \t# Used for Question 1\n",
      "    \t# Used to count users, if not counted, instantiate in users\n",
      "\t\tif users.get(json.loads(line)[\"user\"]) == None:\n",
      "\t\t\tusers[json.loads(line)[\"user\"]] = 1\n",
      "\t\t# Used to count objects, if not counted, instantiate in objects\n",
      "\t\tif objects.get(json.loads(line)[\"object\"]) == None:\n",
      "\t\t\tobjects[json.loads(line)[\"object\"]] = 1\n",
      "\t\t# Used to count responses, if not counted, instantiate in responses\n",
      "\t\tif responses.get(json.loads(line)[\"response\"]) == None:\n",
      "\t\t\tresponses[json.loads(line)[\"response\"]] = 1\n",
      "\n",
      "\t\t# --------------------------------------\n",
      "\n",
      "\t\t# Question 2\n",
      "\t\t# Filtering NULL fields\n",
      "\t\tif line.find(\"NULL\") == -1:\n",
      "\n",
      "\t\t\t# --------------------------------------\n",
      "\n",
      "\t\t\t# Used for Question 3\n",
      "    \t\t# Finding a user's rejections and total responses.\n",
      "\t\t\t# Instantiate an entry with a list containing rejections and total responses if none exists\n",
      "\t\t\tif userrejections.get(json.loads(line)[\"user\"]) == None:\n",
      "\t\t\t\tuserrejections[json.loads(line)[\"user\"]] = [0, 0]\n",
      "\n",
      "\t\t\t# Increment total responses\n",
      "\t\t\tuserrejections[json.loads(line)[\"user\"]][1] += 1\n",
      "\n",
      "\t\t\t# Increment total rejections if it is a rejection\n",
      "\t\t\tif json.loads(line)[\"accepted\"] == \"0\":\n",
      "\t\t\t\tuserrejections[json.loads(line)[\"user\"]][0] += 1\n",
      "\n",
      "\t\t\t# --------------------------------------\n",
      "\n",
      "\t\t\t# Used for Question 4\n",
      "\t\t\t# Finding a response's rejections and total responses\n",
      "\t\t\t# Instantiate an entry with a list containing rejections and total responses if none exists\n",
      "\t\t\tif responserejections.get(json.loads(line)[\"response\"]) == None:\n",
      "\t\t\t\tresponserejections[json.loads(line)[\"response\"]] = [0, 0]\n",
      "\n",
      "\t\t\t# Increment total responses\n",
      "\t\t\tresponserejections[json.loads(line)[\"response\"]][1] += 1\n",
      "\n",
      "\t\t\t# Increment rejections if it is a rejection\n",
      "\t\t\tif json.loads(line)[\"accepted\"] == \"0\":\n",
      "\t\t\t\tresponserejections[json.loads(line)[\"response\"]][0] += 1\n",
      "\n",
      "\t\t\t# --------------------------------------\n",
      "\n",
      "\t\t\t# Used for Question 5 and 6\n",
      "\t\t\t# Finding a user's accepts and total responses.\n",
      "\t\t\t# Instantiate an entry with a list containing accepts and total responses if none exists\n",
      "\t\t\tif useraccepts.get(json.loads(line)[\"user\"]) == None:\n",
      "\t\t\t\tuseraccepts[json.loads(line)[\"user\"]] = [0, 0]\n",
      "\n",
      "\t\t\t# Increment total responses\n",
      "\t\t\tuseraccepts[json.loads(line)[\"user\"]][1] += 1\n",
      "\n",
      "\t\t\t# Increment accepts if it is accepted\n",
      "\t\t\tif json.loads(line)[\"accepted\"] == \"1\":\n",
      "\t\t\t\tuseraccepts[json.loads(line)[\"user\"]][0] += 1\n",
      "\n",
      "\t\t\t# --------------------------------------\n",
      "\n",
      "# Close out the file\n",
      "f.close()\n",
      "\n",
      "# --------------------------------------\n",
      "\n",
      "# Question 1\n",
      "\n",
      "# Print the relevant unique users/objects/responses\n",
      "print \"There are \" + str(len(users)) + \" unique users.\"\n",
      "print \"There are \" + str(len(objects)) + \" unique objects.\"\n",
      "print \"There are \" + str(len(responses)) + \" unique responses.\"\n",
      "\n",
      "# --------------------------------------\n",
      "\n",
      "# Question 3\n",
      "\n",
      "# Calculate 5 users with highest rejection rates\n",
      "# Do so by sorting the user rejections using a key that made by taking their rejections and dividing it by their total responses, then returning only those with the 5 highest results.\n",
      "highestuserrejrate = sorted(userrejections, key=lambda userrejrate: float(userrejections[userrejrate][0])/userrejections[userrejrate][1], reverse = True)[:5]\n",
      "\n",
      "# Find 5 users with most rejections\n",
      "# Do so by sorting the user rejections using a key that made by taking their rejections, then returning only those with the 5 highest results.\n",
      "mostrej = sorted(userrejections, key=lambda usertotalrej: userrejections[usertotalrej][0], reverse=True)[:5]\n",
      "\n",
      "# Print the results\n",
      "print \"The 5 users with the highest rejection rate are %s.\" % \", \".join(map(str, highestuserrejrate))\n",
      "print \"The 5 users with the greatest number of rejections are %s.\" % \", \".join(map(str, mostrej))\n",
      "\n",
      "# --------------------------------------\n",
      "\n",
      "# Question 4\n",
      "\n",
      "# Calculate 5 responses with highest rejection rates\n",
      "# Do so by sorting the response rejections using a key that made by taking the response's rejections and dividing it by the response's total responses, then returning only those with the 5 highest results.\n",
      "highestresprejrate = sorted(responserejections, key=lambda resprejrate: float(responserejections[resprejrate][0])/responserejections[resprejrate][1], reverse = True)[:5]\n",
      "\n",
      "# Print the results\n",
      "print \"The 5 responses with the highest rejection rate are %s.\" % \", \".join(map(str, highestresprejrate))\n",
      "\n",
      "# Find the amount of good tags that would be erraneously rejected if the top 5 reponses with the highest rejection rate were rejected.\n",
      "# Create var to find amount of good tags erroneously rejected\n",
      "goodtagerror = 0\n",
      "# Go through 5 responses with highest rejection rate\n",
      "for n in highestresprejrate:\n",
      "\t# Add to goodtagerror the amount of responses minus the amount of rejected responses to find the amount of accepted responses for each of the responses with the highest rejection rate\n",
      "\tgoodtagerror += responserejections[n][1]-responserejections[n][0]\n",
      "\n",
      "# Print the results\n",
      "print \"The amount of accepted tags that would be erroneously rejected is \" + str(goodtagerror) + \".\"\n",
      "\n",
      "# --------------------------------------\n",
      "\n",
      "# Question 5\n",
      "\n",
      "# Find 5 users with greatest number of accepted responses\n",
      "# Do so by sorting the user accepts using a key that made by taking their acceptances, then returning only those with the 5 highest results.\n",
      "mostacc = sorted(useraccepts, key=lambda usertotalacc: useraccepts[usertotalacc][0], reverse=True)[:5]\n",
      "\n",
      "# Print the results\n",
      "print \"The 5 users with the greatest number of accepted responses are %s.\" % \", \".join(map(str, mostacc))\n",
      "\n",
      "# Create var to find amount of bad tags erroneously accepted\n",
      "badtagerror = 0\n",
      "# Go through 5 users with the greatest number of accepted responses\n",
      "for n in mostacc:\n",
      "\t# Add to goodtagerror the total amount of responses minus the amount of accepted responses to find the amount of rejected responses for each of the users with the highest number of accepted tags\n",
      "\tbadtagerror += useraccepts[n][1]-useraccepts[n][0]\n",
      "\t\n",
      "# Print the results\n",
      "print \"The amount of rejected tags that would be erroneously accepted is \" + str(badtagerror) + \".\"\n",
      "\n",
      "# --------------------------------------\n",
      "\n",
      "# Question 6\n",
      "\n",
      "# Instantiate a list to hold acceptance rates\n",
      "useraccrate = []\n",
      "\n",
      "# Get all the user acceptance rates\n",
      "for n in useraccepts:\n",
      "\tuseraccrate.append(float(useraccepts[n][0])/useraccepts[n][1])\n",
      "\n",
      "# Plot out the distribution histogram of user acceptance rates\n",
      "import matplotlib.pyplot as plt\n",
      "\n",
      "fig, axes = plt.subplots()\n",
      "\n",
      "axes.hist(useraccrate, bins = 20)\n",
      "axes.set_xlabel('User Response Acceptance Rate')\n",
      "axes.set_ylabel('Number of Users')\n",
      "axes.set_title('User Response Acceptance Distribution');\n",
      "plt.show()\n",
      "\n",
      "# --------------------------------------"
     ],
     "language": "python",
     "metadata": {},
     "outputs": [
      {
       "output_type": "stream",
       "stream": "stdout",
       "text": [
        "There are 15699 unique users.\n",
        "There are 340423 unique objects.\n",
        "There are 69871 unique responses.\n",
        "The 5 users with the highest rejection rate are 4461917972885738830, 7140081293236426261, 355792772524603626, 8968607845247884239, 355793772630603943.\n",
        "The 5 users with the greatest number of rejections are 5461918972760738536, 3461916972872738871, 6400038450057764, 4814036714632610472, -2088598916602095351.\n",
        "The 5 responses with the highest rejection rate are -7060452194709552128, 6477965559655277771, -2146747341437483138, 5555194495040224327, -2880596111102578955."
       ]
      },
      {
       "output_type": "stream",
       "stream": "stdout",
       "text": [
        "\n",
        "The amount of accepted tags that would be erroneously rejected is 0.\n",
        "The 5 users with the greatest number of accepted responses are 3461916972869738765, 5461918972760738536, 4814036714632610472, 6400038450057764, 8461920972786738646.\n",
        "The amount of rejected tags that would be erroneously accepted is 12391.\n"
       ]
      },
      {
       "metadata": {},
       "output_type": "display_data",
       "png": "[encoded data removed]",
       "text": [
        "<matplotlib.figure.Figure at 0xbfab940>"
       ]
      }
     ],
     "prompt_number": 9
    }
   ],
   "metadata": {}
  }
 ]
}