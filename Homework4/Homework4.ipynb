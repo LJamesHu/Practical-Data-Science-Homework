{
 "metadata": {
  "name": ""
 },
 "nbformat": 3,
 "nbformat_minor": 0,
 "worksheets": [
  {
   "cells": [
    {
     "cell_type": "markdown",
     "metadata": {},
     "source": [
      "<b>Practical Data Science, Fall 2013\n",
      "\n",
      "Homework 4: Relational Databases and SQL</b>\n",
      "\n",
      "This homework requires access to the social e-commerce database specified in the class. For all questions, submit your SQL query and at most the first 10 rows returned by the query."
     ]
    },
    {
     "cell_type": "markdown",
     "metadata": {},
     "source": [
      "***"
     ]
    },
    {
     "cell_type": "markdown",
     "metadata": {},
     "source": [
      "<b>Analytics with SQL</b>"
     ]
    },
    {
     "cell_type": "markdown",
     "metadata": {},
     "source": [
      "<b>1) How many shops are there?</b>"
     ]
    },
    {
     "cell_type": "markdown",
     "metadata": {},
     "source": [
      "<code>SELECT COUNT(*) FROM shops;</code>"
     ]
    },
    {
     "cell_type": "markdown",
     "metadata": {},
     "source": [
      "<table>\n",
      "    <tr>\n",
      "        <td>COUNT(*)</td>\n",
      "    </tr>\n",
      "    <tr>\n",
      "        <td>46426</td>\n",
      "    </tr>\n",
      "</table>"
     ]
    },
    {
     "cell_type": "markdown",
     "metadata": {},
     "source": [
      "<b>2) What is the average price over all listings? What is the average \u201cprice\u201d across all transactions?</b>"
     ]
    },
    {
     "cell_type": "markdown",
     "metadata": {},
     "source": [
      "<code>SELECT AVG(price) FROM listings;</code>"
     ]
    },
    {
     "cell_type": "markdown",
     "metadata": {},
     "source": [
      "<table>\n",
      "    <tr>\n",
      "        <td>AVG(price)</td>\n",
      "    </tr>\n",
      "    <tr>\n",
      "        <td>3521.7482</td>\n",
      "    </tr>\n",
      "</table>"
     ]
    },
    {
     "cell_type": "markdown",
     "metadata": {},
     "source": [
      "<code>SELECT AVG(price) FROM transactions;</code>"
     ]
    },
    {
     "cell_type": "markdown",
     "metadata": {},
     "source": [
      "<table>\n",
      "    <tr>\n",
      "        <td>AVG(price)</td>\n",
      "    </tr>\n",
      "    <tr>\n",
      "        <td>20.7581</td>\n",
      "    </tr>\n",
      "</table>"
     ]
    },
    {
     "cell_type": "markdown",
     "metadata": {},
     "source": [
      "<b>3) What is the average individual price of each listing purchased (note that the price field in the transactions table is the total price for the transaction; you need to control for quantity). How does this compare to the average listing price?</b>"
     ]
    },
    {
     "cell_type": "markdown",
     "metadata": {},
     "source": [
      "<code>SELECT AVG(price/quantity) FROM transactions;</code>"
     ]
    },
    {
     "cell_type": "markdown",
     "metadata": {},
     "source": [
      "<table>\n",
      "    <tr>\n",
      "        <td>AVG(price/quantity)</td>\n",
      "    </tr>\n",
      "    <tr>\n",
      "        <td>20.45055887</td>\n",
      "    </tr>\n",
      "</table>"
     ]
    },
    {
     "cell_type": "markdown",
     "metadata": {},
     "source": [
      "The average listing price is \\$35.21 whereas for the average individual price of each listing purchased is \\$20.45, which is significantly lower."
     ]
    },
    {
     "cell_type": "markdown",
     "metadata": {},
     "source": [
      "<b>4) Remove listings with a price or quantity of 0 and recompute the average price. How does this compare to the average price of each listing purchased?</b>"
     ]
    },
    {
     "cell_type": "markdown",
     "metadata": {},
     "source": [
      "<code>SELECT AVG(price/quantity) FROM transactions WHERE price > 0 AND quantity > 0;</code>"
     ]
    },
    {
     "cell_type": "markdown",
     "metadata": {},
     "source": [
      "<table>\n",
      "    <tr>\n",
      "        <td>AVG(price/quantity)</td>\n",
      "    </tr>\n",
      "    <tr>\n",
      "        <td>20.50935393</td>\n",
      "    </tr>\n",
      "</table>"
     ]
    },
    {
     "cell_type": "markdown",
     "metadata": {},
     "source": [
      "It increases the average price of each listing purchased a little. This makes sense as quantities/values of 0 should not factor into average price of listings. Those listings would also lower the average price."
     ]
    },
    {
     "cell_type": "markdown",
     "metadata": {},
     "source": [
      "<b>5) What are the 5 most expensive listings?</b>"
     ]
    },
    {
     "cell_type": "markdown",
     "metadata": {},
     "source": [
      "<code>SELECT listing_id, price FROM listings ORDER BY price DESC LIMIT 5;</code>"
     ]
    },
    {
     "cell_type": "markdown",
     "metadata": {},
     "source": [
      "<table>\n",
      "    <tr>\n",
      "        <td>listing_id</td>\n",
      "        <td>price</td>\n",
      "    </tr>\n",
      "    <tr>\n",
      "        <td>929296</td>\n",
      "        <td>25000000</td>\n",
      "    </tr>\n",
      "    <tr>\n",
      "        <td>825605</td>\n",
      "        <td>3500000</td>\n",
      "    </tr>\n",
      "    <tr>\n",
      "        <td>149300</td>\n",
      "        <td>2000000</td>\n",
      "    </tr>\n",
      "    <tr>\n",
      "        <td>92558</td>\n",
      "        <td>1100000</td>\n",
      "    </tr>\n",
      "    <tr>\n",
      "        <td>65276</td>\n",
      "        <td>1000000</td>\n",
      "    </tr>\n",
      "</table>"
     ]
    },
    {
     "cell_type": "markdown",
     "metadata": {},
     "source": [
      "<b>6) How many listings has each user purchased? (Explain your interpretation(s))</b>"
     ]
    },
    {
     "cell_type": "markdown",
     "metadata": {},
     "source": [
      "<code>SELECT buyer_user_id, COUNT(listing_id) FROM transactions GROUP BY buyer_user_id ORDER BY COUNT(listing_id) DESC LIMIT 10;</code>"
     ]
    },
    {
     "cell_type": "markdown",
     "metadata": {},
     "source": [
      "<table>\n",
      "    <tr>\n",
      "        <td>buyer_user_id</td>\n",
      "        <td>COUNT(listing_id)</td>\n",
      "    </tr>\n",
      "    <tr>\n",
      "        <td>839731</td>\n",
      "        <td>13</td>\n",
      "    </tr>\n",
      "    <tr>\n",
      "        <td>97722</td>\n",
      "        <td>11</td>\n",
      "    </tr>\n",
      "    <tr>\n",
      "        <td>867937</td>\n",
      "        <td>11</td>\n",
      "    </tr>\n",
      "    <tr>\n",
      "        <td>179993</td>\n",
      "        <td>11</td>\n",
      "    </tr>\n",
      "    <tr>\n",
      "        <td>518610</td>\n",
      "        <td>10</td>\n",
      "    </tr>\n",
      "    <tr>\n",
      "        <td>201257</td>\n",
      "        <td>10</td>\n",
      "    </tr>\n",
      "    <tr>\n",
      "        <td>160908</td>\n",
      "        <td>9</td>\n",
      "    </tr>\n",
      "    <tr>\n",
      "        <td>788443</td>\n",
      "        <td>9</td>\n",
      "    </tr>\n",
      "    <tr>\n",
      "        <td>17437</td>\n",
      "        <td>9</td>\n",
      "    </tr>\n",
      "    <tr>\n",
      "        <td>879846</td>\n",
      "        <td>9</td>\n",
      "    </tr>\n",
      "</table>"
     ]
    },
    {
     "cell_type": "markdown",
     "metadata": {},
     "source": [
      "My interpretation is that the question is looking for how many types of listings an individual buyer has purchased."
     ]
    },
    {
     "cell_type": "markdown",
     "metadata": {},
     "source": [
      "<b>Optional:</b>"
     ]
    },
    {
     "cell_type": "markdown",
     "metadata": {},
     "source": [
      "<b>7) Compute the distribution of how many users purchase different numbers of listings (# listings purchased vs. # users with that many purchases). You can ignore users with 0 purchases.   (Could you plot this? Hint: click export)</b>"
     ]
    },
    {
     "cell_type": "markdown",
     "metadata": {},
     "source": [
      "<code>SELECT listingcounts, COUNT(listingcounts)\n",
      "FROM (  \n",
      "    SELECT buyer_user_id, COUNT(listing_id) AS listingcounts FROM transactions GROUP BY buyer_user_id\n",
      ") AS counter\n",
      "GROUP BY listingcounts ORDER BY listingcounts DESC;</code>"
     ]
    },
    {
     "cell_type": "markdown",
     "metadata": {},
     "source": [
      "<table>\n",
      "    <tr>\n",
      "        <td>listingcounts</td>\n",
      "        <td>COUNT(listingcounts)</td>\n",
      "    </tr>\n",
      "    <tr>\n",
      "        <td>13</td>\n",
      "        <td>1</td>\n",
      "    </tr>\n",
      "    <tr>\n",
      "        <td>11</td>\n",
      "        <td>3</td>\n",
      "    </tr>\n",
      "    <tr>\n",
      "        <td>10</td>\n",
      "        <td>2</td>\n",
      "    </tr>\n",
      "    <tr>\n",
      "        <td>9</td>\n",
      "        <td>4</td>\n",
      "    </tr>\n",
      "    <tr>\n",
      "        <td>8</td>\n",
      "        <td>9</td>\n",
      "    </tr>\n",
      "    <tr>\n",
      "        <td>7</td>\n",
      "        <td>17</td>\n",
      "    </tr>\n",
      "    <tr>\n",
      "        <td>6</td>\n",
      "        <td>29</td>\n",
      "    </tr>\n",
      "    <tr>\n",
      "        <td>5</td>\n",
      "        <td>52</td>\n",
      "    </tr>\n",
      "    <tr>\n",
      "        <td>4</td>\n",
      "        <td>182</td>\n",
      "    </tr>\n",
      "    <tr>\n",
      "        <td>3</td>\n",
      "        <td>850</td>\n",
      "    </tr>\n",
      "    <tr>\n",
      "        <td>2</td>\n",
      "        <td>6427</td>\n",
      "    </tr>\n",
      "    <tr>\n",
      "        <td>1</td>\n",
      "        <td>78371</td>\n",
      "    </tr>\n",
      "</table>"
     ]
    },
    {
     "cell_type": "markdown",
     "metadata": {},
     "source": [
      "Yes, can be plotted to show distribution."
     ]
    },
    {
     "cell_type": "code",
     "collapsed": false,
     "input": [
      "%pylab inline\n",
      "fig, ax = plt.subplots()\n",
      "\n",
      "ax.bar([13,11,10,9,8,7,6,5,4,3,2,1], [1,3,2,4,9,17,29,52,182,850,6427,78371])\n",
      "ax.set_xlim(1,13)\n",
      "plt.show()"
     ],
     "language": "python",
     "metadata": {},
     "outputs": [
      {
       "output_type": "stream",
       "stream": "stdout",
       "text": [
        "Populating the interactive namespace from numpy and matplotlib\n"
       ]
      },
      {
       "metadata": {},
       "output_type": "display_data",
       "png": "[encoded data removed]",
       "text": [
        "<matplotlib.figure.Figure at 0x60ffef0>"
       ]
      }
     ],
     "prompt_number": 1
    },
    {
     "cell_type": "markdown",
     "metadata": {},
     "source": [
      "<b>8) Compute the number of users with each gender.</b>"
     ]
    },
    {
     "cell_type": "markdown",
     "metadata": {},
     "source": [
      "<code>SELECT gender, COUNT(gender) FROM users GROUP BY gender;</code>"
     ]
    },
    {
     "cell_type": "markdown",
     "metadata": {},
     "source": [
      "<table>\n",
      "    <tr>\n",
      "        <td>gender</td>\n",
      "        <td>COUNT(gender)</td>\n",
      "    </tr>\n",
      "    <tr>\n",
      "        <td>female</td>\n",
      "        <td>36052</td>\n",
      "    </tr>\n",
      "    <tr>\n",
      "        <td>male</td>\n",
      "        <td>6863</td>\n",
      "    </tr>\n",
      "    <tr>\n",
      "        <td>private</td>\n",
      "        <td>52228</td>\n",
      "</table>"
     ]
    },
    {
     "cell_type": "markdown",
     "metadata": {},
     "source": [
      "<b>9) Among the users with purchases, compute the number of users with each gender.</b>"
     ]
    },
    {
     "cell_type": "markdown",
     "metadata": {},
     "source": [
      "<code>SELECT gender, COUNT(gender) FROM users INNER JOIN transactions ON users.user_id = transactions.buyer_user_id GROUP BY gender;</code>"
     ]
    },
    {
     "cell_type": "markdown",
     "metadata": {},
     "source": [
      "<table>\n",
      "    <tr>\n",
      "        <td>gender</td>\n",
      "        <td>COUNT(gender)</td>\n",
      "    </tr>\n",
      "    <tr>\n",
      "        <td>female</td>\n",
      "        <td>3676</td>\n",
      "    </tr>\n",
      "    <tr>\n",
      "        <td>male</td>\n",
      "        <td>681</td>\n",
      "    </tr>\n",
      "    <tr>\n",
      "        <td>private</td>\n",
      "        <td>5222</td>\n",
      "</table>"
     ]
    },
    {
     "cell_type": "markdown",
     "metadata": {},
     "source": [
      "<b>10) If you needed to combine information from two or more tables and then use Python to perform further analytics on the result, are you now prepared to do so?  Explain briefly.</b>"
     ]
    },
    {
     "cell_type": "markdown",
     "metadata": {},
     "source": [
      "Yes as knowledge of joins gives the information required to put into Python for further analytics."
     ]
    },
    {
     "cell_type": "markdown",
     "metadata": {},
     "source": [
      "***"
     ]
    },
    {
     "cell_type": "markdown",
     "metadata": {},
     "source": [
      "<b>Dealing with Data: Parsing Text and Extracting Information</b>\n",
      "\n",
      "Consider the [html document](http://people.stern.nyu.edu/ja1517/data/pds_2012_roster.html) representing the course roster web page for last year\u2019s class located here. Because this is the same html that is rendered by your favorite web browser, you can load it up and see what it looks like (probably something like file\u2192open file). You will be using this raw, semi-structured data for the following tasks:"
     ]
    },
    {
     "cell_type": "markdown",
     "metadata": {},
     "source": [
      "<b>1) Within the document, there are several student IDs (the column actually is titled E-mail). Extract these IDs from the html and print them to a file, one per line.</b>"
     ]
    },
    {
     "cell_type": "code",
     "collapsed": false,
     "input": [
      "# Beautifulsoupify\n",
      "html_doc = open('roster.htm')\n",
      "from BeautifulSoup import BeautifulSoup\n",
      "soup = BeautifulSoup(html_doc)\n",
      "\n",
      "# Open those with mailto\n",
      "idlist = soup.findAll(href= lambda L: L and L.startswith('mailto') )\n",
      "# Remove feedback\n",
      "idlist.pop()\n",
      "\n",
      "# Open and create file\n",
      "f = open('idlist.txt', 'w+')\n",
      "\n",
      "# Print IDs\n",
      "for ids in idlist:\n",
      "    print ids.text\n",
      "    f.write(\"%s \\n\" % ids.text)\n",
      "    \n",
      "f.close()"
     ],
     "language": "python",
     "metadata": {},
     "outputs": [
      {
       "output_type": "stream",
       "stream": "stdout",
       "text": [
        "aka300\n",
        "asa384\n",
        "ssb405\n",
        "arb492\n",
        "cmc616\n",
        "amc723\n",
        "ajc591\n",
        "jc4794\n",
        "dcc327\n",
        "vd511\n",
        "zf309\n",
        "crg272\n",
        "kg1155\n",
        "jh3347\n",
        "srh371\n",
        "zbh203\n",
        "xyh202\n",
        "jh924\n",
        "vj384\n",
        "aj1149\n",
        "dhk332\n",
        "hnk224\n",
        "aml601\n",
        "ll1691\n",
        "awl270\n",
        "sp2710\n",
        "tfp211\n",
        "mrp295\n",
        "cp1105\n",
        "sr1927\n",
        "ar3109\n",
        "jhr320\n",
        "das607\n",
        "ds3569\n",
        "djs507\n",
        "rs2715\n",
        "ss6335\n",
        "as6317\n",
        "ksj222\n",
        "kjs418\n",
        "bct248\n",
        "svs290\n",
        "rjz226\n",
        "jz996\n"
       ]
      }
     ],
     "prompt_number": 2
    },
    {
     "cell_type": "markdown",
     "metadata": {},
     "source": [
      "<b>2) Constrain your search to print only those students with four letters in their last names or less. How many students were removed?</b>"
     ]
    },
    {
     "cell_type": "code",
     "collapsed": false,
     "input": [
      "# Open links with info pages\n",
      "namelist = soup.findAll(href= lambda L: L and L.startswith('../info/') )\n",
      "\n",
      "# Instantiate to store\n",
      "fourletternames = []\n",
      "\n",
      "# Iterate through\n",
      "for names in namelist:\n",
      "    # Get those with last names < 5\n",
      "    if len(names.text.split(',')[0]) <5:\n",
      "        # Add to list\n",
      "        fourletternames.append(names.text)\n",
      "        print names.text.split(',')[0]\n",
      "\n",
      "print fourletternames\n",
      "# Print length of full minus length of how many people with four letter names\n",
      "print \"The number of students removed are \" + str(len(namelist)-len(fourletternames))"
     ],
     "language": "python",
     "metadata": {},
     "outputs": [
      {
       "output_type": "stream",
       "stream": "stdout",
       "text": [
        "Choi\n",
        "Feng\n",
        "Hao\n",
        "Hill\n",
        "Ho\n",
        "Kim\n",
        "Kim\n",
        "Lin\n",
        "Liss\n",
        "Rhyu\n",
        "Saat\n",
        "Shi\n",
        "Zhu\n",
        "[u'Choi, Jaesik', u'Feng, Zhengyang', u'Hao, Jerry', u'Hill, Zelos B.', u'Ho, Xias Yi', u'Kim, Dong H.', u'Kim, Hyung-Nam', u'Lin, Liwen', u'Liss, Alexander W.', u'Rhyu, Joseph H.', u'Saat, Daniel A.', u'Shi, Shenglun', u'Zhu, Jianping']\n",
        "The number of students removed are 31\n"
       ]
      }
     ],
     "prompt_number": 3
    },
    {
     "cell_type": "markdown",
     "metadata": {},
     "source": [
      "<b>3) For every student in the class, in addition to extracting their student ID, extract their name. Present the results by printing out, one student per line:</b>\n",
      "\n",
      "<code>first (and middle) name [tab] last name [tab] student id</code>"
     ]
    },
    {
     "cell_type": "code",
     "collapsed": false,
     "input": [
      "import re\n",
      "\n",
      "# Get Student IDs\n",
      "sidlist = soup.findAll(text=re.compile(\"Nxx\"))\n",
      "\n",
      "# Using list from before\n",
      "for i in range(0,len(namelist)):\n",
      "    print str(namelist[i].text.split(',')[1].strip()) + \"\\t\" + str(namelist[i].text.split(',')[0].strip()) + \"\\t\" + str(sidlist[i].replace('&nbsp;', ' ').strip())"
     ],
     "language": "python",
     "metadata": {},
     "outputs": [
      {
       "output_type": "stream",
       "stream": "stdout",
       "text": [
        "Abhishek Kumar\tAiyangar\tNxx-xx-5237\n",
        "Antik Subodh\tAvasthi\tNxx-xx-5396\n",
        "Sonal Suresh\tBathe\tNxx-xx-0018\n",
        "Aditya\tBhandari\tNxx-xx-4488\n",
        "Corinne M.\tCasagrande\tNxx-xx-4583\n",
        "Ann M.\tCedrone\tNxx-xx-4321\n",
        "Alejandro J.\tChahin\tNxx-xx-5655\n",
        "Jaesik\tChoi\tNxx-xx-3678\n",
        "David C.\tCohodes\tNxx-xx-3382\n",
        "Vitalii\tDoban\tNxx-xx-8936\n",
        "Zhengyang\tFeng\tNxx-xx-3893\n",
        "Charlotte R.\tGeorge\tNxx-xx-3336\n",
        "Kelly\tGoldston\tNxx-xx-4975\n",
        "Jerry\tHao\tNxx-xx-1919\n",
        "Sneha R\tHarchwani\tNxx-xx-9683\n",
        "Zelos B.\tHill\tNxx-xx-6602\n",
        "Xias Yi\tHo\tNxx-xx-1376\n",
        "Joseph A.\tHooper\tNxx-xx-0844\n",
        "Vamsee\tJasti\tNxx-xx-8054\n",
        "Alex\tJoseph\tNxx-xx-6983\n",
        "Dong H.\tKim\tNxx-xx-8830\n",
        "Hyung-Nam\tKim\tNxx-xx-9502\n",
        "Abby M.\tLerner\tNxx-xx-0130\n",
        "Liwen\tLin\tNxx-xx-7689\n",
        "Alexander W.\tLiss\tNxx-xx-7438\n",
        "Smriti\tPandey\tNxx-xx-6271\n",
        "Tyler F.\tPennell\tNxx-xx-3996\n",
        "Michael R.\tPeres\tNxx-xx-2461\n",
        "Craig S.\tPerler\tNxx-xx-7296\n",
        "Suresh\tRangarajan\tNxx-xx-5294\n",
        "Ashwath\tRavichandran\tNxx-xx-3797\n",
        "Joseph H.\tRhyu\tNxx-xx-1723\n",
        "Daniel A.\tSaat\tNxx-xx-8744\n",
        "Deepa\tSaini\tNxx-xx-2270\n",
        "Douglas J.\tSanto\tNxx-xx-8299\n",
        "Reshama\tShaikh\tNxx-xx-3875\n",
        "Shenglun\tShi\tNxx-xx-9689\n",
        "Amrish\tSingh\tNxx-xx-0942\n",
        "Kevin C.\tSt. John\tNxx-xx-7340\n",
        "Kurt J.\tStanton\tNxx-xx-7261\n",
        "Brandon C.\tTikalsky\tNxx-xx-5797\n",
        "Sebastian\tVasquez Sanchez\tNxx-xx-9031\n",
        "Ryan J.\tZaczynski\tNxx-xx-3051\n",
        "Jianping\tZhu\tNxx-xx-4505\n"
       ]
      }
     ],
     "prompt_number": 4
    },
    {
     "cell_type": "markdown",
     "metadata": {},
     "source": [
      "<b>Optional:</b>"
     ]
    },
    {
     "cell_type": "markdown",
     "metadata": {},
     "source": [
      "<b>4) The E-mail column seems misnamed. Create a new html document that replaces all student ids in this field with student email addresses.</b>"
     ]
    },
    {
     "cell_type": "code",
     "collapsed": false,
     "input": [
      "infile = open('roster.htm')\n",
      "outfile = open('rosterfix.htm', 'w+')\n",
      "\n",
      "for line in infile:\n",
      "    for i in range(0,len(idlist)):\n",
      "        line = line.replace(\">\" + str(idlist[i].text) + \"<\", \">\" + str(idlist[i].text) + \"@stern.nyu.edu<\")\n",
      "    outfile.write(line)\n",
      "infile.close()\n",
      "outfile.close()\n",
      "\n",
      "from IPython.display import HTML\n",
      "HTML('<iframe src=/files/rosterfix.htm width=700 height=1000></iframe>')"
     ],
     "language": "python",
     "metadata": {},
     "outputs": [
      {
       "html": [
        "<iframe src=/files/rosterfix.htm width=700 height=1000></iframe>"
       ],
       "metadata": {},
       "output_type": "pyout",
       "prompt_number": 5,
       "text": [
        "<IPython.core.display.HTML at 0x871a198>"
       ]
      }
     ],
     "prompt_number": 5
    }
   ],
   "metadata": {}
  }
 ]
}