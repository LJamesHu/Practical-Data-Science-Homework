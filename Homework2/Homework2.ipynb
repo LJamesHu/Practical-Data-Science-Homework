{
 "metadata": {
  "name": ""
 },
 "nbformat": 3,
 "nbformat_minor": 0,
 "worksheets": [
  {
   "cells": [
    {
     "cell_type": "markdown",
     "metadata": {},
     "source": [
      "<b>Homework #2 [PDS Fall 2013]\n",
      "\n",
      "Practical Data Science, Fall 2013\n",
      "\n",
      "Homework 2: Manipulating and Visualizing Data in Python</b>\n",
      "\n",
      "Directions: Please hand in all code used to solve the following questions, along with the answers themselves. You may work through solutions with your team, but please complete the final version yourself."
     ]
    },
    {
     "cell_type": "markdown",
     "metadata": {},
     "source": [
      "<b>Data understanding and visualization</b>\n",
      "\n",
      "Download [survey_multiple_choice.csv located here](https://raw.github.com/jattenberg/PDS-Fall-2013/master/roster/survey_multiple_choice.csv). (hint: use wget or curl to pull the remote data from the server to your computer) This data represents the answers to the multiple choice survey issued prior to the course. A brief description of this dataset is given here."
     ]
    },
    {
     "cell_type": "code",
     "collapsed": false,
     "input": [
      "!wget https://raw.github.com/jattenberg/PDS-Fall-2013/master/roster/survey_multiple_choice.csv"
     ],
     "language": "python",
     "metadata": {},
     "outputs": [
      {
       "output_type": "stream",
       "stream": "stderr",
       "text": [
        "--2013-10-10 23:35:32--  https://raw.github.com/jattenberg/PDS-Fall-2013/master/roster/survey_multiple_choice.csv\n",
        "Resolving raw.github.com (raw.github.com)... 199.27.78.133\n",
        "Connecting to raw.github.com (raw.github.com)|199.27.78.133|:443... connected.\n",
        "HTTP request sent, awaiting response... 200 OK\n",
        "Length: 11936 (12K) [text/plain]\n",
        "Saving to: `survey_multiple_choice.csv'\n",
        "\n",
        "     0K .......... .                                          100% 2.94M=0.004s\n",
        "\n",
        "2013-10-10 23:35:32 (2.94 MB/s) - `survey_multiple_choice.csv' saved [11936/11936]\n",
        "\n"
       ]
      }
     ],
     "prompt_number": 1
    },
    {
     "cell_type": "markdown",
     "metadata": {},
     "source": [
      "Use the unix command line or write Python scripts (script=little program) to answer the following questions.  Document how you arrived at the answer, as well as the answer."
     ]
    },
    {
     "cell_type": "markdown",
     "metadata": {},
     "source": [
      "* 1 - How many students have completed the survey? Hint: use the wc unix utility."
     ]
    },
    {
     "cell_type": "code",
     "collapsed": false,
     "input": [
      "!wc -l survey_multiple_choice.csv"
     ],
     "language": "python",
     "metadata": {},
     "outputs": [
      {
       "output_type": "stream",
       "stream": "stdout",
       "text": [
        "52 survey_multiple_choice.csv\n"
       ]
      }
     ],
     "prompt_number": 2
    },
    {
     "cell_type": "markdown",
     "metadata": {},
     "source": [
      "* 2 - How many students claim to have each skill level for the unix shell, databases, and programming, respectively?"
     ]
    },
    {
     "cell_type": "markdown",
     "metadata": {},
     "source": [
      "Unix Shell Skill Level:"
     ]
    },
    {
     "cell_type": "code",
     "collapsed": false,
     "input": [
      "!cut -f3 -d',' survey_multiple_choice.csv | cut -f1 -d',' | sort | uniq -c"
     ],
     "language": "python",
     "metadata": {},
     "outputs": [
      {
       "output_type": "stream",
       "stream": "stdout",
       "text": [
        "      5 I don\u00e2\u20ac\u2122t even understand the question\n",
        "     21 I have issued a few commands in a terminal based on given instructions \n",
        "      6 I have no experience working in a terminal \n",
        "      2 I have written complex commands done or have done deep system work  \n",
        "     18 I have written simple terminal commands or done some system work on the terminal \n"
       ]
      }
     ],
     "prompt_number": 3
    },
    {
     "cell_type": "markdown",
     "metadata": {},
     "source": [
      "Database Skill Level:"
     ]
    },
    {
     "cell_type": "code",
     "collapsed": false,
     "input": [
      "!cut -f4 -d',' survey_multiple_choice.csv | cut -f1 -d',' | sort | uniq -c"
     ],
     "language": "python",
     "metadata": {},
     "outputs": [
      {
       "output_type": "stream",
       "stream": "stdout",
       "text": [
        "     17 I can write simple queries and issue them to a database \n",
        "      8 I can write very complex queries when needed \n",
        "     10 I have issued simple queries to a relational database based on given instructions \n",
        "     17 I have never directly accessed a database \n"
       ]
      }
     ],
     "prompt_number": 4
    },
    {
     "cell_type": "markdown",
     "metadata": {},
     "source": [
      "Programming Skill Level:"
     ]
    },
    {
     "cell_type": "code",
     "collapsed": false,
     "input": [
      "!cut -f5 -d',' survey_multiple_choice.csv | cut -f1 -d',' | sort | uniq -c"
     ],
     "language": "python",
     "metadata": {},
     "outputs": [
      {
       "output_type": "stream",
       "stream": "stdout",
       "text": [
        "      8 I can write complex programs am familiar with programming design patterns software testing system design and algorithms. \n",
        "     17 I can write simple programs to accomplish tasks I encounter \n",
        "      6 I have never programmed before. \n",
        "     21 I have written simple programs based on instructions or a tutorial \n"
       ]
      }
     ],
     "prompt_number": 5
    },
    {
     "cell_type": "markdown",
     "metadata": {},
     "source": [
      "* 3 - Which discipline (unix, database, or programming) would you say has the highest overall skill level amongst the students responding to the survey?"
     ]
    },
    {
     "cell_type": "markdown",
     "metadata": {},
     "source": [
      "Based off of least students at a low level, it seems that Programming would probably have a higher skill level. In addition, programming has the most people who say they can work at the highest level."
     ]
    },
    {
     "cell_type": "markdown",
     "metadata": {},
     "source": [
      "* 4 - Which discipline has the lowest?"
     ]
    },
    {
     "cell_type": "markdown",
     "metadata": {},
     "source": [
      "Database seems the lowest with an overwhelming amount of people with no knowledge at all."
     ]
    },
    {
     "cell_type": "markdown",
     "metadata": {},
     "source": [
      "* 5 - Write a simple python program to read in this data, enabling you to look at the individual column values. (hint: look at the string split method to get at the data in the individual rows)"
     ]
    },
    {
     "cell_type": "markdown",
     "metadata": {},
     "source": [
      "Using above mentioned string <code>split</code> method."
     ]
    },
    {
     "cell_type": "code",
     "collapsed": false,
     "input": [
      "# Instantiate a list\n",
      "survey_data = []\n",
      "\n",
      "# Open the file\n",
      "f = open(\"survey_multiple_choice.csv\", \"r\")\n",
      "# Iterate through the information\n",
      "for line in f:\n",
      "\t# Add information in the line after it has white space removed and split based off of comma delimiter \n",
      "\tsurvey_data.append(line.strip().split(','))\n",
      "\tsurvey_data[-1][2] = survey_data[-1][2].strip()\n",
      "\tsurvey_data[-1][3] = survey_data[-1][3].strip()\n",
      "\tsurvey_data[-1][4] = survey_data[-1][4].strip()\n",
      "\n",
      "print survey_data\n",
      "\n",
      "# Close the file\n",
      "f.close()"
     ],
     "language": "python",
     "metadata": {},
     "outputs": [
      {
       "output_type": "stream",
       "stream": "stdout",
       "text": [
        "[['9/19/2013 20:10:06', 'NYU Stern/MBA', 'I have issued a few commands in a terminal based on given instructions', 'I can write simple queries and issue them to a database', 'I have written simple programs based on instructions or a tutorial'], ['9/19/2013 20:18:01', 'MBA Langone', 'I have issued a few commands in a terminal based on given instructions', 'I can write simple queries and issue them to a database', 'I have written simple programs based on instructions or a tutorial'], ['9/19/2013 20:36:07', 'Stern MBA', 'I have issued a few commands in a terminal based on given instructions', 'I can write simple queries and issue them to a database', 'I can write simple programs to accomplish tasks I encounter'], ['9/19/2013 21:07:22', 'NYU/Stern MBA', 'I have written simple terminal commands or done some system work on the terminal', 'I can write very complex queries when needed', 'I can write simple programs to accomplish tasks I encounter'], ['9/19/2013 21:29:19', 'NYU Stern Full-Time MBA', 'I have issued a few commands in a terminal based on given instructions', 'I have never directly accessed a database', 'I have never programmed before.'], ['9/19/2013 22:25:15', 'Stern/Finance+Stats', 'I have issued a few commands in a terminal based on given instructions', 'I have never directly accessed a database', 'I have written simple programs based on instructions or a tutorial'], ['9/19/2013 22:28:53', 'Stern MBA', 'I have written simple terminal commands or done some system work on the terminal', 'I can write very complex queries when needed', 'I can write complex programs am familiar with programming design patterns software testing system design and algorithms.'], ['9/19/2013 22:30:48', 'Stern/Finance+Stats', 'I have issued a few commands in a terminal based on given instructions', 'I have never directly accessed a database', 'I have written simple programs based on instructions or a tutorial'], ['9/19/2013 22:35:56', 'Langone/MBA', 'I have issued a few commands in a terminal based on given instructions', 'I can write simple queries and issue them to a database', 'I can write simple programs to accomplish tasks I encounter'], ['9/19/2013 23:13:14', 'Stern MBA', 'I don\\xe2\\x80\\x99t even understand the question', 'I have never directly accessed a database', 'I have written simple programs based on instructions or a tutorial'], ['9/19/2013 23:19:38', 'MBA', 'I have issued a few commands in a terminal based on given instructions', 'I have issued simple queries to a relational database based on given instructions', 'I have written simple programs based on instructions or a tutorial'], ['9/19/2013 23:28:29', 'MBA', 'I have written simple terminal commands or done some system work on the terminal', 'I can write simple queries and issue them to a database', 'I can write simple programs to accomplish tasks I encounter'], ['9/19/2013 23:50:00', 'NYU MBA Langone', 'I have written simple terminal commands or done some system work on the terminal', 'I can write very complex queries when needed', 'I can write complex programs am familiar with programming design patterns software testing system design and algorithms.'], ['9/20/2013 2:27:03', 'NYU Stern Langone', 'I have issued a few commands in a terminal based on given instructions', 'I have never directly accessed a database', 'I have written simple programs based on instructions or a tutorial'], ['9/20/2013 8:25:13', 'Computer Engineering', 'I have issued a few commands in a terminal based on given instructions', 'I can write very complex queries when needed', 'I can write complex programs am familiar with programming design patterns software testing system design and algorithms.'], ['9/20/2013 9:13:49', 'MBA', 'I have no experience working in a terminal', 'I have never directly accessed a database', 'I can write simple programs to accomplish tasks I encounter'], ['9/20/2013 9:50:46', 'Business Management', 'I don\\xe2\\x80\\x99t even understand the question', 'I have never directly accessed a database', 'I have written simple programs based on instructions or a tutorial'], ['9/20/2013 10:14:56', 'MBA Langone Program', 'I have written complex commands done or have done deep system work', 'I can write simple queries and issue them to a database', 'I can write complex programs am familiar with programming design patterns software testing system design and algorithms.'], ['9/20/2013 11:44:06', 'Gallatin/Tech Business and Entrepreneurship', 'I have written simple terminal commands or done some system work on the terminal', 'I have never directly accessed a database', 'I have written simple programs based on instructions or a tutorial'], ['9/20/2013 11:52:29', 'Finance Information Systems', 'I have no experience working in a terminal', 'I have never directly accessed a database', 'I can write simple programs to accomplish tasks I encounter'], ['9/20/2013 11:56:50', 'Langone MBA', 'I have written complex commands done or have done deep system work', 'I can write very complex queries when needed', 'I can write simple programs to accomplish tasks I encounter'], ['9/20/2013 12:22:09', 'Stern / Full-time MBA', 'I have written simple terminal commands or done some system work on the terminal', 'I can write simple queries and issue them to a database', 'I can write complex programs am familiar with programming design patterns software testing system design and algorithms.'], ['9/20/2013 12:35:30', 'Stern MBA FT', 'I have written simple terminal commands or done some system work on the terminal', 'I can write very complex queries when needed', 'I can write complex programs am familiar with programming design patterns software testing system design and algorithms.'], ['9/20/2013 12:45:04', 'MBA', 'I have issued a few commands in a terminal based on given instructions', 'I have never directly accessed a database', 'I have written simple programs based on instructions or a tutorial'], ['9/20/2013 13:55:59', 'Part-Time MBA', 'I have issued a few commands in a terminal based on given instructions', 'I can write simple queries and issue them to a database', 'I have written simple programs based on instructions or a tutorial'], ['9/20/2013 14:11:57', 'Stern MBA', 'I have issued a few commands in a terminal based on given instructions', 'I have never directly accessed a database', 'I have written simple programs based on instructions or a tutorial'], ['9/20/2013 16:05:39', 'Stern-Information Systems Major', 'I have issued a few commands in a terminal based on given instructions', 'I can write simple queries and issue them to a database', 'I can write simple programs to accomplish tasks I encounter'], ['9/20/2013 16:22:56', 'B Tech', 'I have written simple terminal commands or done some system work on the terminal', 'I can write simple queries and issue them to a database', 'I can write simple programs to accomplish tasks I encounter'], ['9/21/2013 2:48:55', 'Full-time MBA', 'I don\\xe2\\x80\\x99t even understand the question', 'I have never directly accessed a database', 'I can write simple programs to accomplish tasks I encounter'], ['9/21/2013 8:33:13', 'Stern Langone MBA', 'I have written simple terminal commands or done some system work on the terminal', 'I can write very complex queries when needed', 'I can write simple programs to accomplish tasks I encounter'], ['9/21/2013 10:47:26', 'BA Organizational Psychology', 'I have written simple terminal commands or done some system work on the terminal', 'I can write simple queries and issue them to a database', 'I can write simple programs to accomplish tasks I encounter'], ['9/21/2013 15:50:45', 'MBA (Full-time)', 'I have issued a few commands in a terminal based on given instructions', 'I have issued simple queries to a relational database based on given instructions', 'I have written simple programs based on instructions or a tutorial'], ['9/21/2013 18:21:15', 'NYU Stern / MBA', 'I have issued a few commands in a terminal based on given instructions', 'I have issued simple queries to a relational database based on given instructions', 'I have written simple programs based on instructions or a tutorial'], ['9/22/2013 12:39:32', 'NYU/MBA', 'I have no experience working in a terminal', 'I have issued simple queries to a relational database based on given instructions', 'I have never programmed before.'], ['9/22/2013 15:28:17', 'Stern/MBA', 'I have issued a few commands in a terminal based on given instructions', 'I have issued simple queries to a relational database based on given instructions', 'I have never programmed before.'], ['9/22/2013 18:49:07', 'Stern MBA 2014', 'I don\\xe2\\x80\\x99t even understand the question', 'I have never directly accessed a database', 'I have never programmed before.'], ['9/23/2013 9:39:23', 'Langone MBA', 'I have issued a few commands in a terminal based on given instructions', 'I have issued simple queries to a relational database based on given instructions', 'I can write simple programs to accomplish tasks I encounter'], ['9/23/2013 12:54:31', 'NYU Stern', 'I have written simple terminal commands or done some system work on the terminal', 'I can write simple queries and issue them to a database', 'I have written simple programs based on instructions or a tutorial'], ['9/23/2013 18:05:31', 'Stern/MBA', 'I have written simple terminal commands or done some system work on the terminal', 'I can write very complex queries when needed', 'I can write simple programs to accomplish tasks I encounter'], ['9/23/2013 23:11:28', 'Information Sciences and Technology', 'I have written simple terminal commands or done some system work on the terminal', 'I can write simple queries and issue them to a database', 'I can write complex programs am familiar with programming design patterns software testing system design and algorithms.'], ['9/24/2013 1:40:25', 'Stern FT MBA', 'I don\\xe2\\x80\\x99t even understand the question', 'I have issued simple queries to a relational database based on given instructions', 'I have never programmed before.'], ['9/24/2013 16:30:13', 'Stern MBA', 'I have written simple terminal commands or done some system work on the terminal', 'I have never directly accessed a database', 'I have written simple programs based on instructions or a tutorial'], ['9/24/2013 23:54:20', 'Stern/Full-Time MBA', 'I have no experience working in a terminal', 'I can write simple queries and issue them to a database', 'I have written simple programs based on instructions or a tutorial'], ['9/25/2013 18:13:29', 'Stern Undegraduate', 'I have written simple terminal commands or done some system work on the terminal', 'I have never directly accessed a database', 'I can write complex programs am familiar with programming design patterns software testing system design and algorithms.'], ['9/25/2013 19:47:56', 'Gallatin/Statistics and Marketing Research', 'I have issued a few commands in a terminal based on given instructions', 'I have never directly accessed a database', 'I have written simple programs based on instructions or a tutorial'], ['9/25/2013 19:59:37', 'Alum (Ph.D. Marketing)', 'I have no experience working in a terminal', 'I have never directly accessed a database', 'I have never programmed before.'], ['9/25/2013 20:19:34', 'finance', 'I have written simple terminal commands or done some system work on the terminal', 'I can write simple queries and issue them to a database', 'I can write simple programs to accomplish tasks I encounter'], ['9/25/2013 20:20:04', 'Stern Full-time MBA', 'I have written simple terminal commands or done some system work on the terminal', 'I have issued simple queries to a relational database based on given instructions', 'I have written simple programs based on instructions or a tutorial'], ['9/28/2013 9:20:34', 'Finance', 'I have written simple terminal commands or done some system work on the terminal', 'I can write simple queries and issue them to a database', 'I can write simple programs to accomplish tasks I encounter'], ['9/28/2013 10:05:48', 'MSIS', 'I have issued a few commands in a terminal based on given instructions', 'I can write simple queries and issue them to a database', 'I have written simple programs based on instructions or a tutorial'], ['10/1/2013 10:13:16', 'Stern MBA', 'I have no experience working in a terminal', 'I have issued simple queries to a relational database based on given instructions', 'I have written simple programs based on instructions or a tutorial'], ['10/1/2013 21:32:07', 'Mechanical Engineering', 'I have issued a few commands in a terminal based on given instructions', 'I have issued simple queries to a relational database based on given instructions', 'I can write simple programs to accomplish tasks I encounter']]\n"
       ]
      }
     ],
     "prompt_number": 6
    },
    {
     "cell_type": "markdown",
     "metadata": {},
     "source": [
      "Using numpy to get the info more quickly and cleanly"
     ]
    },
    {
     "cell_type": "code",
     "collapsed": false,
     "input": [
      "import numpy as np\n",
      "\n",
      "# Read the txt file and arrange into array of arrays\n",
      "npdata = np.genfromtxt(\"survey_multiple_choice.csv\", dtype='string', autostrip=True, delimiter=',')\n",
      "\n",
      "print npdata"
     ],
     "language": "python",
     "metadata": {},
     "outputs": [
      {
       "output_type": "stream",
       "stream": "stdout",
       "text": [
        "[['9/19/2013 20:10:06' 'NYU Stern/MBA'\n",
        "  'I have issued a few commands in a terminal based on given instructions'\n",
        "  'I can write simple queries and issue them to a database'\n",
        "  'I have written simple programs based on instructions or a tutorial']\n",
        " ['9/19/2013 20:18:01' 'MBA Langone'\n",
        "  'I have issued a few commands in a terminal based on given instructions'\n",
        "  'I can write simple queries and issue them to a database'\n",
        "  'I have written simple programs based on instructions or a tutorial']\n",
        " ['9/19/2013 20:36:07' 'Stern MBA'\n",
        "  'I have issued a few commands in a terminal based on given instructions'\n",
        "  'I can write simple queries and issue them to a database'\n",
        "  'I can write simple programs to accomplish tasks I encounter']\n",
        " ['9/19/2013 21:07:22' 'NYU/Stern MBA'\n",
        "  'I have written simple terminal commands or done some system work on the terminal'\n",
        "  'I can write very complex queries when needed'\n",
        "  'I can write simple programs to accomplish tasks I encounter']\n",
        " ['9/19/2013 21:29:19' 'NYU Stern Full-Time MBA'\n",
        "  'I have issued a few commands in a terminal based on given instructions'\n",
        "  'I have never directly accessed a database'\n",
        "  'I have never programmed before.']\n",
        " ['9/19/2013 22:25:15' 'Stern/Finance+Stats'\n",
        "  'I have issued a few commands in a terminal based on given instructions'\n",
        "  'I have never directly accessed a database'\n",
        "  'I have written simple programs based on instructions or a tutorial']\n",
        " ['9/19/2013 22:28:53' 'Stern MBA'\n",
        "  'I have written simple terminal commands or done some system work on the terminal'\n",
        "  'I can write very complex queries when needed'\n",
        "  'I can write complex programs am familiar with programming design patterns software testing system design and algorithms.']\n",
        " ['9/19/2013 22:30:48' 'Stern/Finance+Stats'\n",
        "  'I have issued a few commands in a terminal based on given instructions'\n",
        "  'I have never directly accessed a database'\n",
        "  'I have written simple programs based on instructions or a tutorial']\n",
        " ['9/19/2013 22:35:56' 'Langone/MBA'\n",
        "  'I have issued a few commands in a terminal based on given instructions'\n",
        "  'I can write simple queries and issue them to a database'\n",
        "  'I can write simple programs to accomplish tasks I encounter']\n",
        " ['9/19/2013 23:13:14' 'Stern MBA'\n",
        "  'I don\\xe2\\x80\\x99t even understand the question'\n",
        "  'I have never directly accessed a database'\n",
        "  'I have written simple programs based on instructions or a tutorial']\n",
        " ['9/19/2013 23:19:38' 'MBA'\n",
        "  'I have issued a few commands in a terminal based on given instructions'\n",
        "  'I have issued simple queries to a relational database based on given instructions'\n",
        "  'I have written simple programs based on instructions or a tutorial']\n",
        " ['9/19/2013 23:28:29' 'MBA'\n",
        "  'I have written simple terminal commands or done some system work on the terminal'\n",
        "  'I can write simple queries and issue them to a database'\n",
        "  'I can write simple programs to accomplish tasks I encounter']\n",
        " ['9/19/2013 23:50:00' 'NYU MBA Langone'\n",
        "  'I have written simple terminal commands or done some system work on the terminal'\n",
        "  'I can write very complex queries when needed'\n",
        "  'I can write complex programs am familiar with programming design patterns software testing system design and algorithms.']\n",
        " ['9/20/2013 2:27:03' 'NYU Stern Langone'\n",
        "  'I have issued a few commands in a terminal based on given instructions'\n",
        "  'I have never directly accessed a database'\n",
        "  'I have written simple programs based on instructions or a tutorial']\n",
        " ['9/20/2013 8:25:13' 'Computer Engineering'\n",
        "  'I have issued a few commands in a terminal based on given instructions'\n",
        "  'I can write very complex queries when needed'\n",
        "  'I can write complex programs am familiar with programming design patterns software testing system design and algorithms.']\n",
        " ['9/20/2013 9:13:49' 'MBA' 'I have no experience working in a terminal'\n",
        "  'I have never directly accessed a database'\n",
        "  'I can write simple programs to accomplish tasks I encounter']\n",
        " ['9/20/2013 9:50:46' 'Business Management'\n",
        "  'I don\\xe2\\x80\\x99t even understand the question'\n",
        "  'I have never directly accessed a database'\n",
        "  'I have written simple programs based on instructions or a tutorial']\n",
        " ['9/20/2013 10:14:56' 'MBA Langone Program'\n",
        "  'I have written complex commands done or have done deep system work'\n",
        "  'I can write simple queries and issue them to a database'\n",
        "  'I can write complex programs am familiar with programming design patterns software testing system design and algorithms.']\n",
        " ['9/20/2013 11:44:06' 'Gallatin/Tech Business and Entrepreneurship'\n",
        "  'I have written simple terminal commands or done some system work on the terminal'\n",
        "  'I have never directly accessed a database'\n",
        "  'I have written simple programs based on instructions or a tutorial']\n",
        " ['9/20/2013 11:52:29' 'Finance Information Systems'\n",
        "  'I have no experience working in a terminal'\n",
        "  'I have never directly accessed a database'\n",
        "  'I can write simple programs to accomplish tasks I encounter']\n",
        " ['9/20/2013 11:56:50' 'Langone MBA'\n",
        "  'I have written complex commands done or have done deep system work'\n",
        "  'I can write very complex queries when needed'\n",
        "  'I can write simple programs to accomplish tasks I encounter']\n",
        " ['9/20/2013 12:22:09' 'Stern / Full-time MBA'\n",
        "  'I have written simple terminal commands or done some system work on the terminal'\n",
        "  'I can write simple queries and issue them to a database'\n",
        "  'I can write complex programs am familiar with programming design patterns software testing system design and algorithms.']\n",
        " ['9/20/2013 12:35:30' 'Stern MBA FT'\n",
        "  'I have written simple terminal commands or done some system work on the terminal'\n",
        "  'I can write very complex queries when needed'\n",
        "  'I can write complex programs am familiar with programming design patterns software testing system design and algorithms.']\n",
        " ['9/20/2013 12:45:04' 'MBA'\n",
        "  'I have issued a few commands in a terminal based on given instructions'\n",
        "  'I have never directly accessed a database'\n",
        "  'I have written simple programs based on instructions or a tutorial']\n",
        " ['9/20/2013 13:55:59' 'Part-Time MBA'\n",
        "  'I have issued a few commands in a terminal based on given instructions'\n",
        "  'I can write simple queries and issue them to a database'\n",
        "  'I have written simple programs based on instructions or a tutorial']\n",
        " ['9/20/2013 14:11:57' 'Stern MBA'\n",
        "  'I have issued a few commands in a terminal based on given instructions'\n",
        "  'I have never directly accessed a database'\n",
        "  'I have written simple programs based on instructions or a tutorial']\n",
        " ['9/20/2013 16:05:39' 'Stern-Information Systems Major'\n",
        "  'I have issued a few commands in a terminal based on given instructions'\n",
        "  'I can write simple queries and issue them to a database'\n",
        "  'I can write simple programs to accomplish tasks I encounter']\n",
        " ['9/20/2013 16:22:56' 'B Tech'\n",
        "  'I have written simple terminal commands or done some system work on the terminal'\n",
        "  'I can write simple queries and issue them to a database'\n",
        "  'I can write simple programs to accomplish tasks I encounter']\n",
        " ['9/21/2013 2:48:55' 'Full-time MBA'\n",
        "  'I don\\xe2\\x80\\x99t even understand the question'\n",
        "  'I have never directly accessed a database'\n",
        "  'I can write simple programs to accomplish tasks I encounter']\n",
        " ['9/21/2013 8:33:13' 'Stern Langone MBA'\n",
        "  'I have written simple terminal commands or done some system work on the terminal'\n",
        "  'I can write very complex queries when needed'\n",
        "  'I can write simple programs to accomplish tasks I encounter']\n",
        " ['9/21/2013 10:47:26' 'BA Organizational Psychology'\n",
        "  'I have written simple terminal commands or done some system work on the terminal'\n",
        "  'I can write simple queries and issue them to a database'\n",
        "  'I can write simple programs to accomplish tasks I encounter']\n",
        " ['9/21/2013 15:50:45' 'MBA (Full-time)'\n",
        "  'I have issued a few commands in a terminal based on given instructions'\n",
        "  'I have issued simple queries to a relational database based on given instructions'\n",
        "  'I have written simple programs based on instructions or a tutorial']\n",
        " ['9/21/2013 18:21:15' 'NYU Stern / MBA'\n",
        "  'I have issued a few commands in a terminal based on given instructions'\n",
        "  'I have issued simple queries to a relational database based on given instructions'\n",
        "  'I have written simple programs based on instructions or a tutorial']\n",
        " ['9/22/2013 12:39:32' 'NYU/MBA'\n",
        "  'I have no experience working in a terminal'\n",
        "  'I have issued simple queries to a relational database based on given instructions'\n",
        "  'I have never programmed before.']\n",
        " ['9/22/2013 15:28:17' 'Stern/MBA'\n",
        "  'I have issued a few commands in a terminal based on given instructions'\n",
        "  'I have issued simple queries to a relational database based on given instructions'\n",
        "  'I have never programmed before.']\n",
        " ['9/22/2013 18:49:07' 'Stern MBA 2014'\n",
        "  'I don\\xe2\\x80\\x99t even understand the question'\n",
        "  'I have never directly accessed a database'\n",
        "  'I have never programmed before.']\n",
        " ['9/23/2013 9:39:23' 'Langone MBA'\n",
        "  'I have issued a few commands in a terminal based on given instructions'\n",
        "  'I have issued simple queries to a relational database based on given instructions'\n",
        "  'I can write simple programs to accomplish tasks I encounter']\n",
        " ['9/23/2013 12:54:31' 'NYU Stern'\n",
        "  'I have written simple terminal commands or done some system work on the terminal'\n",
        "  'I can write simple queries and issue them to a database'\n",
        "  'I have written simple programs based on instructions or a tutorial']\n",
        " ['9/23/2013 18:05:31' 'Stern/MBA'\n",
        "  'I have written simple terminal commands or done some system work on the terminal'\n",
        "  'I can write very complex queries when needed'\n",
        "  'I can write simple programs to accomplish tasks I encounter']\n",
        " ['9/23/2013 23:11:28' 'Information Sciences and Technology'\n",
        "  'I have written simple terminal commands or done some system work on the terminal'\n",
        "  'I can write simple queries and issue them to a database'\n",
        "  'I can write complex programs am familiar with programming design patterns software testing system design and algorithms.']\n",
        " ['9/24/2013 1:40:25' 'Stern FT MBA'\n",
        "  'I don\\xe2\\x80\\x99t even understand the question'\n",
        "  'I have issued simple queries to a relational database based on given instructions'\n",
        "  'I have never programmed before.']\n",
        " ['9/24/2013 16:30:13' 'Stern MBA'\n",
        "  'I have written simple terminal commands or done some system work on the terminal'\n",
        "  'I have never directly accessed a database'\n",
        "  'I have written simple programs based on instructions or a tutorial']\n",
        " ['9/24/2013 23:54:20' 'Stern/Full-Time MBA'\n",
        "  'I have no experience working in a terminal'\n",
        "  'I can write simple queries and issue them to a database'\n",
        "  'I have written simple programs based on instructions or a tutorial']\n",
        " ['9/25/2013 18:13:29' 'Stern Undegraduate'\n",
        "  'I have written simple terminal commands or done some system work on the terminal'\n",
        "  'I have never directly accessed a database'\n",
        "  'I can write complex programs am familiar with programming design patterns software testing system design and algorithms.']\n",
        " ['9/25/2013 19:47:56' 'Gallatin/Statistics and Marketing Research'\n",
        "  'I have issued a few commands in a terminal based on given instructions'\n",
        "  'I have never directly accessed a database'\n",
        "  'I have written simple programs based on instructions or a tutorial']\n",
        " ['9/25/2013 19:59:37' 'Alum (Ph.D. Marketing)'\n",
        "  'I have no experience working in a terminal'\n",
        "  'I have never directly accessed a database'\n",
        "  'I have never programmed before.']\n",
        " ['9/25/2013 20:19:34' 'finance'\n",
        "  'I have written simple terminal commands or done some system work on the terminal'\n",
        "  'I can write simple queries and issue them to a database'\n",
        "  'I can write simple programs to accomplish tasks I encounter']\n",
        " ['9/25/2013 20:20:04' 'Stern Full-time MBA'\n",
        "  'I have written simple terminal commands or done some system work on the terminal'\n",
        "  'I have issued simple queries to a relational database based on given instructions'\n",
        "  'I have written simple programs based on instructions or a tutorial']\n",
        " ['9/28/2013 9:20:34' 'Finance'\n",
        "  'I have written simple terminal commands or done some system work on the terminal'\n",
        "  'I can write simple queries and issue them to a database'\n",
        "  'I can write simple programs to accomplish tasks I encounter']\n",
        " ['9/28/2013 10:05:48' 'MSIS'\n",
        "  'I have issued a few commands in a terminal based on given instructions'\n",
        "  'I can write simple queries and issue them to a database'\n",
        "  'I have written simple programs based on instructions or a tutorial']\n",
        " ['10/1/2013 10:13:16' 'Stern MBA'\n",
        "  'I have no experience working in a terminal'\n",
        "  'I have issued simple queries to a relational database based on given instructions'\n",
        "  'I have written simple programs based on instructions or a tutorial']\n",
        " ['10/1/2013 21:32:07' 'Mechanical Engineering'\n",
        "  'I have issued a few commands in a terminal based on given instructions'\n",
        "  'I have issued simple queries to a relational database based on given instructions'\n",
        "  'I can write simple programs to accomplish tasks I encounter']]\n"
       ]
      }
     ],
     "prompt_number": 7
    },
    {
     "cell_type": "code",
     "collapsed": false,
     "input": [
      "# Use this code to embed figures into the notebook for the next 3 questions\n",
      "%matplotlib inline\n",
      "import matplotlib.pyplot as plt"
     ],
     "language": "python",
     "metadata": {},
     "outputs": [],
     "prompt_number": 8
    },
    {
     "cell_type": "markdown",
     "metadata": {},
     "source": [
      "* 6 - Using matplotlib, make a plot of the distribution of skill levels, starting from the lowest and going to the highest for each of the three disciplines. You may wish to substitute the strings describing the skill level with a numeric value."
     ]
    },
    {
     "cell_type": "code",
     "collapsed": false,
     "input": [
      "# Collecting data on Unix skill\n",
      "# Set up dictionary to count\n",
      "unix = {1:0, 2:0, 3:0, 4:0, 5:0}\n",
      "\n",
      "# Go through all the lines in the info\n",
      "for n in range(len(npdata)):\n",
      "\t# Get the 3th data point of each line\n",
      "\t# Check against dictionary then iterate appropriate number + 1\n",
      "\tif npdata[n][2] == \"I don\\xe2\\x80\\x99t even understand the question\":\n",
      "\t\tunix[1] += 1\n",
      "\n",
      "\telif npdata[n][2] == 'I have no experience working in a terminal':\n",
      "\t\tunix[2] += 1\n",
      "\n",
      "\telif npdata[n][2] == 'I have issued a few commands in a terminal based on given instructions':\n",
      "\t\tunix[3] += 1\n",
      "\n",
      "\telif npdata[n][2] == 'I have written simple terminal commands or done some system work on the terminal':\n",
      "\t\tunix[4] += 1\n",
      "\n",
      "\telif npdata[n][2] == 'I have written complex commands done or have done deep system work':\n",
      "\t\tunix[5] += 1\n",
      "\n",
      "# Graph it out\n",
      "fig, axes = plt.subplots()\n",
      "\n",
      "axes.plot(unix.keys(), unix.values(), label=\"Unix Shell Skill Level\")\n",
      "axes.set_xlabel('Skill Level')\n",
      "axes.set_xticks(unix.keys())\n",
      "axes.set_ylabel('Number of Responses')\n",
      "axes.set_title('Unix Shell Skill Level')\n",
      "axes.legend();\n",
      "plt.show()"
     ],
     "language": "python",
     "metadata": {},
     "outputs": [
      {
       "metadata": {},
       "output_type": "display_data",
       "png": "[encoded data removed]",
       "text": [
        "<matplotlib.figure.Figure at 0x81577f0>"
       ]
      }
     ],
     "prompt_number": 9
    },
    {
     "cell_type": "code",
     "collapsed": false,
     "input": [
      "# Collecting data on Database skill\n",
      "# Set up dictionary to count\n",
      "db = {1:0, 2:0, 3:0, 4:0, 5:0}\n",
      "\n",
      "# Go through all the lines in the info\n",
      "for n in range(len(npdata)):\n",
      "\t# Get the 4th data point of each line\n",
      "\t# Check against dictionary then iterate appropriate number + 1\n",
      "\tif npdata[n][3] == 'I have never directly accessed a database':\n",
      "\t\tdb[1] += 1\n",
      "\n",
      "\telif npdata[n][3] == 'I have issued simple queries to a relational database based on given instructions':\n",
      "\t\tdb[2] += 1\n",
      "\n",
      "\telif npdata[n][3] == 'I can write simple queries and issue them to a database':\n",
      "\t\tdb[3] += 1\n",
      "\n",
      "\telif npdata[n][3] == 'I can write very complex queries when needed':\n",
      "\t\tdb[4] += 1\n",
      "\n",
      "\telif npdata[n][3] == 'I am a database hacker':\n",
      "\t\tdb[5] += 1\n",
      "\n",
      "#Graph it out\n",
      "fig, axes = plt.subplots()\n",
      "\n",
      "axes.plot(db.keys(), db.values(), label=\"Database Skill Level\")\n",
      "axes.set_xlabel('Skill Level (Low to High)')\n",
      "axes.set_xticks(db.keys())\n",
      "axes.set_ylabel('Number of Responses')\n",
      "axes.set_title('Database Skill Level')\n",
      "axes.legend();\n",
      "plt.show()"
     ],
     "language": "python",
     "metadata": {},
     "outputs": [
      {
       "metadata": {},
       "output_type": "display_data",
       "png": "[encoded data removed]",
       "text": [
        "<matplotlib.figure.Figure at 0x8167a90>"
       ]
      }
     ],
     "prompt_number": 10
    },
    {
     "cell_type": "code",
     "collapsed": false,
     "input": [
      "# Collecting data on Programming skill\n",
      "# Set up dictionary to count\n",
      "prog = {1:0, 2:0, 3:0, 4:0, 5:0}\n",
      "\n",
      "# Go through all the lines in the info\n",
      "for n in range(len(npdata)):\n",
      "\t# Get the 5th data point of each line\n",
      "\t# Check against dictionary then iterate appropriate number + 1\n",
      "\tif npdata[n][4] == 'I have never programmed before.':\n",
      "\t\tprog[1] += 1\n",
      "\n",
      "\telif npdata[n][4] == 'I have written simple programs based on instructions or a tutorial':\n",
      "\t\tprog[2] += 1\n",
      "\n",
      "\telif npdata[n][4] == 'I can write simple programs to accomplish tasks I encounter':\n",
      "\t\tprog[3] += 1\n",
      "\n",
      "\telif npdata[n][4] == 'I can write complex programs am familiar with programming design patterns software testing system design and algorithms.':\n",
      "\t\tprog[4] += 1\n",
      "\n",
      "\telif npdata[n][4] == 'I am a hacker or have senior-level programming experience':\n",
      "\t\tprog[5] += 1\n",
      "\n",
      "# Graph it out\n",
      "fig, axes = plt.subplots()\n",
      "\n",
      "axes.plot(prog.keys(), prog.values(), label=\"Programming Skill Level\")\n",
      "axes.set_xlabel('Skill Level (Low to High)')\n",
      "axes.set_xticks(prog.keys())\n",
      "axes.set_ylabel('Number of Responses')\n",
      "axes.set_title('Programming Skill Level')\n",
      "axes.legend();\n",
      "plt.show()"
     ],
     "language": "python",
     "metadata": {},
     "outputs": [
      {
       "metadata": {},
       "output_type": "display_data",
       "png": "[encoded data removed]",
       "text": [
        "<matplotlib.figure.Figure at 0x8180518>"
       ]
      }
     ],
     "prompt_number": 11
    },
    {
     "cell_type": "markdown",
     "metadata": {},
     "source": [
      "* 7 - Combine these three plots, overlaying them on a single graph. Make sure each line is a different color for each line, and make a legend to tell the different colors apart."
     ]
    },
    {
     "cell_type": "code",
     "collapsed": false,
     "input": [
      "# Graph all on one figure\n",
      "fig, axes = plt.subplots()\n",
      "\n",
      "axes.plot(unix.keys(), unix.values(), label=\"Unix Shell Skill Level\")\n",
      "axes.plot(db.keys(), db.values(), label=\"Database Skill Level\")\n",
      "axes.plot(prog.keys(), prog.values(), label=\"Programming Skill Level\")\n",
      "axes.set_xlabel('Skill Level (Low to High)')\n",
      "axes.set_xticks(unix.keys())\n",
      "axes.set_ylabel('Number of Responses')\n",
      "axes.set_title('Computer Disciplines Skill Level')\n",
      "axes.legend();\n",
      "plt.show()"
     ],
     "language": "python",
     "metadata": {},
     "outputs": [
      {
       "metadata": {},
       "output_type": "display_data",
       "png": "[encoded data removed]",
       "text": [
        "<matplotlib.figure.Figure at 0x81835c0>"
       ]
      }
     ],
     "prompt_number": 12
    },
    {
     "cell_type": "markdown",
     "metadata": {},
     "source": [
      "* 8 - Repeat question 6 using a bar plot."
     ]
    },
    {
     "cell_type": "code",
     "collapsed": false,
     "input": [
      "# Bar Graph for Unix Shell Skill Level\n",
      "\n",
      "fig, axes = plt.subplots()\n",
      "\n",
      "axes.bar(unix.keys(), unix.values(), label=\"Unix Shell Skill Level\", align='center')\n",
      "axes.set_xlabel('Skill Level (Low to High)')\n",
      "axes.set_xticks(unix.keys())\n",
      "axes.set_ylabel('Number of Responses')\n",
      "axes.set_title('Unix Shell Skill Level');\n",
      "plt.show()\n",
      "\n",
      "# Bar Graph for Database Skill Level\n",
      "\n",
      "fig, axes = plt.subplots()\n",
      "\n",
      "axes.bar(db.keys(), db.values(), label=\"Database Skill Level\", align='center')\n",
      "axes.set_xlabel('Skill Level (Low to High)')\n",
      "axes.set_xticks(db.keys())\n",
      "axes.set_ylabel('Number of Responses')\n",
      "axes.set_title('Database Skill Level');\n",
      "plt.show()\n",
      "\n",
      "# Bar Graph for Programming Skill Level\n",
      "\n",
      "fig, axes = plt.subplots()\n",
      "\n",
      "axes.bar(prog.keys(), prog.values(), label=\"Programming Skill Level\", align='center')\n",
      "axes.set_xlabel('Skill Level (Low to High)')\n",
      "axes.set_xticks(prog.keys())\n",
      "axes.set_ylabel('Number of Responses')\n",
      "axes.set_title('Programming Skill Level');\n",
      "plt.show()"
     ],
     "language": "python",
     "metadata": {},
     "outputs": [
      {
       "metadata": {},
       "output_type": "display_data",
       "png": "[encoded data removed]",
       "text": [
        "<matplotlib.figure.Figure at 0x8178710>"
       ]
      },
      {
       "metadata": {},
       "output_type": "display_data",
       "png": "[encoded data removed]",
       "text": [
        "<matplotlib.figure.Figure at 0x8180dd8>"
       ]
      },
      {
       "metadata": {},
       "output_type": "display_data",
       "png": "[encoded data removed]",
       "text": [
        "<matplotlib.figure.Figure at 0x846b5f8>"
       ]
      }
     ],
     "prompt_number": 13
    },
    {
     "cell_type": "markdown",
     "metadata": {},
     "source": [
      "* * *"
     ]
    },
    {
     "cell_type": "markdown",
     "metadata": {},
     "source": [
      "<b>Income Prediction 2.</b>\n",
      "\n",
      "This problem uses the income dataset from the prior homework, [available here](https://raw.github.com/jattenberg/PDS-Fall-2013/master/marketing/marketing.data) and described [here](https://raw.github.com/jattenberg/PDS-Fall-2013/master/marketing/marketing.info). In this example, we\u2019re going to build a simple predictive model for household income."
     ]
    },
    {
     "cell_type": "code",
     "collapsed": false,
     "input": [
      "!wget https://raw.github.com/jattenberg/PDS-Fall-2013/master/marketing/marketing.data"
     ],
     "language": "python",
     "metadata": {},
     "outputs": [
      {
       "output_type": "stream",
       "stream": "stderr",
       "text": [
        "--2013-10-10 23:35:56--  https://raw.github.com/jattenberg/PDS-Fall-2013/master/marketing/marketing.data\n",
        "Resolving raw.github.com (raw.github.com)... 199.27.78.133\n",
        "Connecting to raw.github.com (raw.github.com)|199.27.78.133|:443... connected.\n",
        "HTTP request sent, awaiting response... 200 OK\n",
        "Length: 254499 (249K) [text/plain]\n",
        "Saving to: `marketing.data'\n",
        "\n",
        "     0K .......... .......... .......... .......... .......... 20%  645K 0s\n",
        "    50K .......... .......... .......... .......... .......... 40% 1.19M 0s\n",
        "   100K .......... .......... .......... .......... .......... 60% 1.36M 0s\n",
        "   150K .......... .......... .......... .......... .......... 80% 1.29M 0s\n",
        "   200K .......... .......... .......... .......... ........  100% 1.93M=0.2s\n",
        "\n",
        "2013-10-10 23:35:57 (1.12 MB/s) - `marketing.data' saved [254499/254499]\n",
        "\n"
       ]
      }
     ],
     "prompt_number": 14
    },
    {
     "cell_type": "markdown",
     "metadata": {},
     "source": [
      "* 1 - Consider the following simple model of income level using only education level.\n",
      "\n",
      "  Let 4 be the nominal income level, with the following adjustments in income level being made according to education:\n",
      "\n",
      "<table>\n",
      "    <tr>\n",
      "        <td>Education Level</td><td>Income Modifier</td>\n",
      "    </tr>\n",
      "    <tr>\n",
      "        <td>1</td><td>-3</td>\n",
      "    </tr>\n",
      "    <tr>\n",
      "        <td>2</td><td>-1</td>\n",
      "    </tr>\n",
      "    <tr>\n",
      "        <td>3</td><td>0</td>\n",
      "    </tr>\n",
      "    <tr>\n",
      "        <td>4</td><td>+1</td>\n",
      "    </tr>\n",
      "    <tr>\n",
      "        <td>5</td><td>+3</td>\n",
      "    </tr>\n",
      "    <tr>\n",
      "        <td>6</td><td>+4</td>\n",
      "    </tr>\n",
      "    \n",
      "</table>\n",
      "\n",
      "  What is the total difference between actual and predicted income level using the above model? What about the average difference per user? (Hint: again use a dict data structure, this time to store the modifiers of the model)"
     ]
    },
    {
     "cell_type": "code",
     "collapsed": false,
     "input": [
      "# Read the txt file and arrange into array of arrays\n",
      "data = np.genfromtxt(\"marketing.data\")\n",
      "\n",
      "# Setup dictionary with list with two values, 1 to store cumulative income, 1 to store how many people\n",
      "eduactual = {1.0:[0,0], 2.0:[0,0], 3.0:[0,0], 4.0:[0,0], 5.0:[0,0], 6.0:[0,0]}\n",
      "\n",
      "# The given education income modifiers\n",
      "eduincmod = {1.0:-3, 2.0:-1, 3.0:0, 4.0:1, 5.0:3, 6.0:4}\n",
      "\n",
      "# Go through all the lines in the file\n",
      "for n in range(len(data)):\n",
      "\t# Get the 5th data point of each line\n",
      "\t# Check if legitimate (not nan)\n",
      "\tif data[n][4] > 0 and data[n][0] > 0:\n",
      "\t\t# Add income level to the income list\n",
      "\t\teduactual[data[n][4]][0] += data[n][0]\n",
      "\t\t# Iterate +1 to account for another person\n",
      "\t\teduactual[data[n][4]][1] += 1\n",
      "\n",
      "# Set default incomes\n",
      "incomeactual = {1.0:0, 2.0:0, 3.0:0, 4.0:0, 5.0:0, 6.0:0}\n",
      "\n",
      "# Iterate through and get average income for each education level.\n",
      "for n in eduactual:\n",
      "\tincomeactual[n] = eduactual[n][0]/eduactual[n][1]\n",
      "\n",
      "print \"Actual Income Level per Education Level: \" + str(incomeactual)\n",
      "\n",
      "# Set default incomes\n",
      "incomeprojected = {1.0:4, 2.0:4, 3.0:4, 4.0:4, 5.0:4, 6.0:4}\n",
      "\n",
      "# Iterate through and get projected income for each education level\n",
      "for n in eduincmod:\n",
      "\tincomeprojected[n] += eduincmod[n]\n",
      "\n",
      "print \"Projected Income Level per Education Level: \" + str(incomeprojected)\n",
      "\n",
      "# Create dict\n",
      "incomediff = {1.0:0, 2.0:0, 3.0:0, 4.0:0, 5.0:0, 6.0:0}\n",
      "\n",
      "# Iterate through and get difference for each education level\n",
      "for n in incomeprojected:\n",
      "\tincomediff[n] = incomeactual[n] - incomeprojected[n]\n",
      "\n",
      "print \"The total difference between actual and predicted income level at each education level is: \" + str(incomediff)\n",
      "\n",
      "# Create value to measure average difference\n",
      "avgdiff = 0\n",
      "\n",
      "# Iterate through and sum the differences for each education level\n",
      "for n in incomediff:\n",
      "\tavgdiff += incomediff[n]\n",
      "\n",
      "# Get the average\n",
      "avgdiff = avgdiff/6\n",
      "\n",
      "print \"The average difference per user between actual and predicted income level at each education level is: \" + str(avgdiff)"
     ],
     "language": "python",
     "metadata": {},
     "outputs": [
      {
       "output_type": "stream",
       "stream": "stdout",
       "text": [
        "Actual Income Level per Education Level: {1.0: 1.9166666666666667, 2.0: 2.4569789674952198, 3.0: 4.3900048995590399, 4.0: 5.0893672537508152, 5.0: 6.1587926509186355, 6.0: 6.8354037267080745}\n",
        "Projected Income Level per Education Level: {1.0: 1, 2.0: 3, 3.0: 4, 4.0: 5, 5.0: 7, 6.0: 8}\n",
        "The total difference between actual and predicted income level at each education level is: {1.0: 0.91666666666666674, 2.0: -0.54302103250478018, 3.0: 0.39000489955903994, 4.0: 0.089367253750815223, 5.0: -0.84120734908136452, 6.0: -1.1645962732919255}\n",
        "The average difference per user between actual and predicted income level at each education level is: -0.192130972484\n"
       ]
      }
     ],
     "prompt_number": 15
    },
    {
     "cell_type": "markdown",
     "metadata": {},
     "source": [
      "The average difference per user between actual and predicted income level at each education level is -0.192130972484, which means this model overestimates. This can be seen from the values that are fairly off at education levels above 4.0."
     ]
    },
    {
     "cell_type": "markdown",
     "metadata": {},
     "source": [
      "* 2 - Consider the following modification to the model presented in question 1 that additionally incorporates the following information about a person\u2019s occupation:\n",
      "\n",
      "<table>\n",
      "    <tr>\n",
      "        <td>Occupation</td><td>Income Modifier</td>\n",
      "    </tr>\n",
      "    <tr>\n",
      "        <td>1</td><td>+2.5</td>\n",
      "    </tr>\n",
      "    <tr>\n",
      "        <td>2</td><td>+0.6</td>\n",
      "    </tr>\n",
      "    <tr>\n",
      "        <td>3</td><td>0</td>\n",
      "    </tr>\n",
      "    <tr>\n",
      "        <td>4</td><td>+0.2</td>\n",
      "    </tr>\n",
      "    <tr>\n",
      "        <td>5</td><td>-0.5</td>\n",
      "    </tr>\n",
      "    <tr>\n",
      "        <td>6</td><td>-1.5</td>\n",
      "    </tr>\n",
      "    <tr>\n",
      "        <td>7</td><td>+0.3</td>\n",
      "    </tr>\n",
      "    <tr>\n",
      "        <td>8</td><td>+0.8</td>\n",
      "    </tr>\n",
      "    <tr>\n",
      "        <td>9</td><td>-2.5</td>\n",
      "    </tr>\n",
      "    \n",
      "</table>\n",
      "\n",
      "  In this setting, we are using a two parameter model to estimate an individual\u2019s income, according to both occupation and education level. What is the total difference between actual and predicted income level using the above model? What about the average difference per user?  Is this better or worse than the model presented in question 1? Is this model more likely to overestimate or underestimate an individual\u2019s income level?"
     ]
    },
    {
     "cell_type": "code",
     "collapsed": false,
     "input": [
      "# Getting the income actual total\n",
      "incomeactual2total = {}\n",
      "# Getting the income actual count\n",
      "incomeactual2count = {}\n",
      "\n",
      "# Go through all the lines in the file\n",
      "for n in range(len(data)):\n",
      "\t# Check if legitimate (not nan)\n",
      "\tif data[n][4] > 0 and data[n][5] > 0 and data[n][0] > 0:\n",
      "\t\t# Check if exists in dictionary\n",
      "\t\tif incomeactual2total.get((data[n][4],data[n][5])) == None:\n",
      "\t\t\t# If not instantiate in total and count\n",
      "\t\t\tincomeactual2total[data[n][4],data[n][5]] = 0\n",
      "\t\t\tincomeactual2count[data[n][4],data[n][5]] = 0\n",
      "\t\t# Add income level to the income list\n",
      "\t\tincomeactual2total[(data[n][4],data[n][5])] += data[n][0]\n",
      "\t\t# Iterate +1 to account for another person\n",
      "\t\tincomeactual2count[(data[n][4],data[n][5])] += 1\n",
      "\n",
      "# Instantiate Averages\n",
      "incomeactual2average = {}\n",
      "\n",
      "# Calculate average actual income level per education level and occupation combination\n",
      "for n in incomeactual2total:\n",
      "\tincomeactual2average[n] = incomeactual2total[n]/incomeactual2count[n]\n",
      "\n",
      "\n",
      "# Getting projected income with both income modifiers\n",
      "incomeprojected2 = {}\n",
      "\n",
      "# The given occupation income modifiers\n",
      "ocuincmod = {1.0:2.5, 2.0:0.6, 3.0:0.0, 4.0:0.2, 5.0:-0.5, 6.0:-1.5, 7.0:0.3, 8.0:0.8, 9.0:-2.5}\n",
      "\n",
      "# Iterate through education income modifiers\n",
      "for n in eduincmod:\n",
      "\t# Iterate through occupation income modifiers\n",
      "\tfor m in ocuincmod:\n",
      "\t\t# Find projected income by using relevant education and occupation modifiers, adding the base of 4\n",
      "\t\tincomeprojected2[n,m] = eduincmod[n] + ocuincmod[m] + 4\n",
      "\n",
      "# Instantiate dictionary\n",
      "incomediff2 = {}\n",
      "\n",
      "# Iterate through and get difference for each education level\n",
      "for n in incomeactual2average:\n",
      "\tincomediff2[n] = incomeactual2average[n] - incomeprojected2[n]\n",
      "\n",
      "print \"The total difference between actual and predicted income level at each combination of education level and occupation is: \" + str(incomediff2)\n",
      "\n",
      "# Create value to measure average difference\n",
      "avgdiff2 = 0\n",
      "# Create value to count\n",
      "diffcount2 = 0\n",
      "\n",
      "# Iterate through and sum the differences for each education level\n",
      "for n in incomediff2:\n",
      "\tavgdiff2 += incomediff2[n]\n",
      "\t# Add to the count\n",
      "\tdiffcount2 += 1\n",
      "\n",
      "# Get the average\n",
      "avgdiff2 = avgdiff2/diffcount2\n",
      "\n",
      "print \"The average difference per user between actual and predicted income level at each combination of education level and occupation is: \" + str(avgdiff2)"
     ],
     "language": "python",
     "metadata": {},
     "outputs": [
      {
       "output_type": "stream",
       "stream": "stdout",
       "text": [
        "The total difference between actual and predicted income level at each combination of education level and occupation is: {(5.0, 9.0): -0.97368421052631593, (6.0, 9.0): -1.166666666666667, (1.0, 3.0): 2.1666666666666665, (4.0, 8.0): -1.025225225225225, (5.0, 6.0): -2.7586206896551726, (2.0, 8.0): -0.29999999999999982, (5.0, 4.0): -2.0897058823529413, (2.0, 1.0): -1.0, (6.0, 2.0): -1.894117647058823, (1.0, 6.0): 1.6095890410958904, (3.0, 7.0): -1.0850467289719625, (5.0, 1.0): -2.8636363636363633, (2.0, 5.0): 0.69298245614035103, (5.0, 8.0): -1.569230769230769, (5.0, 7.0): -1.0555555555555554, (1.0, 2.0): 2.1142857142857143, (4.0, 9.0): 0.26315789473684204, (5.0, 5.0): 0.796875, (2.0, 9.0): 3.0454545454545454, (6.0, 6.0): -2.9347826086956523, (4.0, 4.0): -0.28884297520661217, (6.0, 3.0): -4.0, (1.0, 5.0): 1.7916666666666665, (3.0, 6.0): 1.4186602870813396, (2.0, 2.0): -0.24367816091954042, (3.0, 3.0): 0.36092715231788119, (3.0, 5.0): 1.5343347639484977, (4.0, 1.0): -1.3152059134107708, (1.0, 1.0): 0.375, (6.0, 4.0): -3.87391304347826, (3.0, 2.0): -0.79469026548672517, (2.0, 6.0): 0.1802721088435375, (4.0, 5.0): 1.8287671232876717, (1.0, 4.0): 2.5499999999999998, (3.0, 9.0): 1.3888888888888888, (2.0, 3.0): 0.36082474226804129, (1.0, 9.0): 5.0, (6.0, 8.0): -1.9511627906976754, (6.0, 7.0): -2.8000000000000007, (6.0, 5.0): -0.0625, (5.0, 3.0): -1.7586206896551726, (2.0, 7.0): -0.29999999999999982, (4.0, 6.0): -0.098591549295774517, (4.0, 7.0): -1.2894736842105265, (5.0, 2.0): -1.2551724137931028, (6.0, 1.0): -3.1500000000000004, (3.0, 1.0): -0.7586206896551726, (4.0, 2.0): -0.83050847457627075, (3.0, 8.0): -0.34245283018867934, (1.0, 8.0): 0.45000000000000018, (4.0, 3.0): -0.08455882352941213, (1.0, 7.0): 2.2000000000000002, (3.0, 4.0): 0.075229357798164642, (2.0, 4.0): 0.611320754716981}\n",
        "The average difference per user between actual and predicted income level at each combination of education level and occupation is: -0.279617805324\n"
       ]
      }
     ],
     "prompt_number": 16
    },
    {
     "cell_type": "markdown",
     "metadata": {},
     "source": [
      "Theoretically it could be better, but it seems to just compound the problems of both models (being very arbitrary), creating an overall worse representation.\n",
      "\n",
      "Just a broader look at the data shows that some of the values are significantly more off. In addition, the average difference per user between actual and predicted income level at each combination of education level and occupation is -0.279617805324. The absolute value of this is higher than the model using just education, and overestimates by almost 50% more than just education does."
     ]
    }
   ],
   "metadata": {}
  }
 ]
}